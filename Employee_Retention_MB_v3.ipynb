{
 "cells": [
  {
   "cell_type": "markdown",
   "metadata": {},
   "source": [
    "# Employee retention data challenge\n",
    "\n",
    "Employee turn-over is a very costly problem for companies. The cost of replacing an employee if often larger than 100K USD, taking into account the time spent to interview and find a replacement, placement fees, sign-on bonuses and the loss of productivity for several months.\n",
    "\n",
    "In this challenge, you have a data set with info about the employees and have to predict when employees are going to quit by understanding the main drivers of employee churn. We have data about all employees who joined from 2011/01/24 to 2015/12/13. For each employee, we also know if they are still at the company as of 2015/12/13 or they have quit. Beside that, we have general info about the employee, such as avg salary during her tenure, dept, and yrs of experience.\n",
    "\n",
    "### Goals: \n",
    "\n",
    "1. Understand the main drivers of employee churn\n",
    "2. Develop a predictive model to predict who is most likely to churn"
   ]
  },
  {
   "cell_type": "markdown",
   "metadata": {},
   "source": [
    "# Importing packages"
   ]
  },
  {
   "cell_type": "code",
   "execution_count": 1,
   "metadata": {
    "collapsed": true
   },
   "outputs": [],
   "source": [
    "import pandas as pd\n",
    "import numpy as np\n",
    "import matplotlib.pyplot as plt\n",
    "import seaborn as sns\n",
    "%matplotlib inline"
   ]
  },
  {
   "cell_type": "markdown",
   "metadata": {},
   "source": [
    "# Loading the dataset"
   ]
  },
  {
   "cell_type": "code",
   "execution_count": 2,
   "metadata": {
    "collapsed": true
   },
   "outputs": [],
   "source": [
    "# Importing raw data set which I wont change\n",
    "df_raw = pd.read_csv('~/Data/employee_retention_data.csv')\n",
    "\n",
    "# Will work off of df\n",
    "df = pd.read_csv('~/Data/employee_retention_data.csv')"
   ]
  },
  {
   "cell_type": "code",
   "execution_count": 3,
   "metadata": {
    "collapsed": false
   },
   "outputs": [
    {
     "data": {
      "text/html": [
       "<div>\n",
       "<style>\n",
       "    .dataframe thead tr:only-child th {\n",
       "        text-align: right;\n",
       "    }\n",
       "\n",
       "    .dataframe thead th {\n",
       "        text-align: left;\n",
       "    }\n",
       "\n",
       "    .dataframe tbody tr th {\n",
       "        vertical-align: top;\n",
       "    }\n",
       "</style>\n",
       "<table border=\"1\" class=\"dataframe\">\n",
       "  <thead>\n",
       "    <tr style=\"text-align: right;\">\n",
       "      <th></th>\n",
       "      <th>employee_id</th>\n",
       "      <th>company_id</th>\n",
       "      <th>dept</th>\n",
       "      <th>seniority</th>\n",
       "      <th>salary</th>\n",
       "      <th>join_date</th>\n",
       "      <th>quit_date</th>\n",
       "      <th>quit_yn</th>\n",
       "      <th>end_date</th>\n",
       "    </tr>\n",
       "  </thead>\n",
       "  <tbody>\n",
       "    <tr>\n",
       "      <th>0</th>\n",
       "      <td>13021.0</td>\n",
       "      <td>7</td>\n",
       "      <td>customer_service</td>\n",
       "      <td>28</td>\n",
       "      <td>89000.0</td>\n",
       "      <td>3/24/14</td>\n",
       "      <td>10/30/15</td>\n",
       "      <td>1</td>\n",
       "      <td>10/30/15</td>\n",
       "    </tr>\n",
       "    <tr>\n",
       "      <th>1</th>\n",
       "      <td>825355.0</td>\n",
       "      <td>7</td>\n",
       "      <td>marketing</td>\n",
       "      <td>20</td>\n",
       "      <td>183000.0</td>\n",
       "      <td>4/29/13</td>\n",
       "      <td>4/4/14</td>\n",
       "      <td>1</td>\n",
       "      <td>4/4/14</td>\n",
       "    </tr>\n",
       "    <tr>\n",
       "      <th>2</th>\n",
       "      <td>927315.0</td>\n",
       "      <td>4</td>\n",
       "      <td>marketing</td>\n",
       "      <td>14</td>\n",
       "      <td>101000.0</td>\n",
       "      <td>10/13/14</td>\n",
       "      <td>NaN</td>\n",
       "      <td>0</td>\n",
       "      <td>12/13/15</td>\n",
       "    </tr>\n",
       "  </tbody>\n",
       "</table>\n",
       "</div>"
      ],
      "text/plain": [
       "   employee_id  company_id              dept  seniority    salary join_date  \\\n",
       "0      13021.0           7  customer_service         28   89000.0   3/24/14   \n",
       "1     825355.0           7         marketing         20  183000.0   4/29/13   \n",
       "2     927315.0           4         marketing         14  101000.0  10/13/14   \n",
       "\n",
       "  quit_date  quit_yn  end_date  \n",
       "0  10/30/15        1  10/30/15  \n",
       "1    4/4/14        1    4/4/14  \n",
       "2       NaN        0  12/13/15  "
      ]
     },
     "execution_count": 3,
     "metadata": {},
     "output_type": "execute_result"
    }
   ],
   "source": [
    "# Quick look at the data\n",
    "df.head(3)"
   ]
  },
  {
   "cell_type": "markdown",
   "metadata": {},
   "source": [
    "Note that I've added a few helpful columns here: 'quit_yn' and 'end_date'"
   ]
  },
  {
   "cell_type": "markdown",
   "metadata": {},
   "source": [
    "## Going to get durations for each subject\n",
    "\n",
    "### First, a look at the different data types in the dataset"
   ]
  },
  {
   "cell_type": "code",
   "execution_count": 4,
   "metadata": {
    "collapsed": false
   },
   "outputs": [
    {
     "data": {
      "text/plain": [
       "employee_id    float64\n",
       "company_id       int64\n",
       "dept            object\n",
       "seniority        int64\n",
       "salary         float64\n",
       "join_date       object\n",
       "quit_date       object\n",
       "quit_yn          int64\n",
       "end_date        object\n",
       "dtype: object"
      ]
     },
     "execution_count": 4,
     "metadata": {},
     "output_type": "execute_result"
    }
   ],
   "source": [
    "# What are the different data types?\n",
    "df.dtypes"
   ]
  },
  {
   "cell_type": "markdown",
   "metadata": {},
   "source": [
    "Note that the date related columns are not treated like dates right now"
   ]
  },
  {
   "cell_type": "markdown",
   "metadata": {},
   "source": [
    "### Converting dates into appropriate data types"
   ]
  },
  {
   "cell_type": "code",
   "execution_count": 5,
   "metadata": {
    "collapsed": true
   },
   "outputs": [],
   "source": [
    "# Converting the data into datetime \n",
    "df['JOIN_DATE'] = pd.to_datetime(df['join_date'])\n",
    "df['QUIT_DATE'] = pd.to_datetime(df['quit_date'])\n",
    "df['END_DATE'] = pd.to_datetime(df['end_date'])"
   ]
  },
  {
   "cell_type": "markdown",
   "metadata": {},
   "source": [
    "### Getting the duration of time the employee was at the company"
   ]
  },
  {
   "cell_type": "code",
   "execution_count": 6,
   "metadata": {
    "collapsed": true
   },
   "outputs": [],
   "source": [
    "df['Duration'] = df['END_DATE'] - df['JOIN_DATE'] "
   ]
  },
  {
   "cell_type": "code",
   "execution_count": 7,
   "metadata": {
    "collapsed": false
   },
   "outputs": [
    {
     "data": {
      "text/plain": [
       "employee_id            float64\n",
       "company_id               int64\n",
       "dept                    object\n",
       "seniority                int64\n",
       "salary                 float64\n",
       "join_date               object\n",
       "quit_date               object\n",
       "quit_yn                  int64\n",
       "end_date                object\n",
       "JOIN_DATE       datetime64[ns]\n",
       "QUIT_DATE       datetime64[ns]\n",
       "END_DATE        datetime64[ns]\n",
       "Duration       timedelta64[ns]\n",
       "dtype: object"
      ]
     },
     "execution_count": 7,
     "metadata": {},
     "output_type": "execute_result"
    }
   ],
   "source": [
    "# Check that we now have correct data types\n",
    "df.dtypes"
   ]
  },
  {
   "cell_type": "markdown",
   "metadata": {},
   "source": [
    "Now they are treated like datetimes"
   ]
  },
  {
   "cell_type": "code",
   "execution_count": 8,
   "metadata": {},
   "outputs": [
    {
     "data": {
      "text/plain": [
       "employee_id        0\n",
       "company_id         0\n",
       "dept               0\n",
       "seniority          0\n",
       "salary             0\n",
       "join_date          0\n",
       "quit_date      11192\n",
       "quit_yn            0\n",
       "end_date           0\n",
       "JOIN_DATE          0\n",
       "QUIT_DATE      11192\n",
       "END_DATE           0\n",
       "Duration           0\n",
       "dtype: int64"
      ]
     },
     "execution_count": 8,
     "metadata": {},
     "output_type": "execute_result"
    }
   ],
   "source": [
    "# Any missing values?\n",
    "df.isnull().sum()"
   ]
  },
  {
   "cell_type": "markdown",
   "metadata": {},
   "source": [
    "Only missing values are due to the employees who didn't quit... Because I'll create a quit varibale with censored cases this wont be an issue"
   ]
  },
  {
   "cell_type": "markdown",
   "metadata": {},
   "source": [
    "# Let's look at employee survival at different companies"
   ]
  },
  {
   "cell_type": "markdown",
   "metadata": {},
   "source": [
    "### Defining quitting cases and sensored cases"
   ]
  },
  {
   "cell_type": "markdown",
   "metadata": {},
   "source": [
    "Making use of the extra column I created in excel: quit_yn"
   ]
  },
  {
   "cell_type": "code",
   "execution_count": 9,
   "metadata": {
    "collapsed": false
   },
   "outputs": [
    {
     "data": {
      "text/plain": [
       "0     True\n",
       "1     True\n",
       "2    False\n",
       "Name: quit_yn, dtype: bool"
      ]
     },
     "execution_count": 9,
     "metadata": {},
     "output_type": "execute_result"
    }
   ],
   "source": [
    "# defining events: True = quit, False = still at job\n",
    "events = df['quit_yn'] == 1\n",
    "\n",
    "# Have a look at 1st 3 rows\n",
    "events[:3]"
   ]
  },
  {
   "cell_type": "markdown",
   "metadata": {},
   "source": [
    "### Defining survivial times"
   ]
  },
  {
   "cell_type": "markdown",
   "metadata": {},
   "source": [
    "Making use of the Durations column I generated"
   ]
  },
  {
   "cell_type": "code",
   "execution_count": 10,
   "metadata": {
    "collapsed": false
   },
   "outputs": [
    {
     "data": {
      "text/plain": [
       "0    585.0\n",
       "1    340.0\n",
       "2    426.0\n",
       "Name: Duration, dtype: float64"
      ]
     },
     "execution_count": 10,
     "metadata": {},
     "output_type": "execute_result"
    }
   ],
   "source": [
    "# Converting the datetime object to # of days\n",
    "survival_times = df['Duration'].astype('timedelta64[D]')\n",
    "\n",
    "# Have a look at 1st 3 rows\n",
    "survival_times[:3]"
   ]
  },
  {
   "cell_type": "markdown",
   "metadata": {},
   "source": [
    "### Adding these useful new measures back to the main data frame for later use"
   ]
  },
  {
   "cell_type": "code",
   "execution_count": 11,
   "metadata": {
    "collapsed": true
   },
   "outputs": [],
   "source": [
    "# Add the Survive variable to df\n",
    "df['Survive'] = events"
   ]
  },
  {
   "cell_type": "code",
   "execution_count": 12,
   "metadata": {
    "collapsed": true
   },
   "outputs": [],
   "source": [
    "# Add the survival times variable to df\n",
    "df['Times'] = survival_times"
   ]
  },
  {
   "cell_type": "code",
   "execution_count": 13,
   "metadata": {
    "collapsed": false
   },
   "outputs": [
    {
     "data": {
      "text/html": [
       "<div>\n",
       "<style>\n",
       "    .dataframe thead tr:only-child th {\n",
       "        text-align: right;\n",
       "    }\n",
       "\n",
       "    .dataframe thead th {\n",
       "        text-align: left;\n",
       "    }\n",
       "\n",
       "    .dataframe tbody tr th {\n",
       "        vertical-align: top;\n",
       "    }\n",
       "</style>\n",
       "<table border=\"1\" class=\"dataframe\">\n",
       "  <thead>\n",
       "    <tr style=\"text-align: right;\">\n",
       "      <th></th>\n",
       "      <th>employee_id</th>\n",
       "      <th>company_id</th>\n",
       "      <th>dept</th>\n",
       "      <th>seniority</th>\n",
       "      <th>salary</th>\n",
       "      <th>join_date</th>\n",
       "      <th>quit_date</th>\n",
       "      <th>quit_yn</th>\n",
       "      <th>end_date</th>\n",
       "      <th>JOIN_DATE</th>\n",
       "      <th>QUIT_DATE</th>\n",
       "      <th>END_DATE</th>\n",
       "      <th>Duration</th>\n",
       "      <th>Survive</th>\n",
       "      <th>Times</th>\n",
       "    </tr>\n",
       "  </thead>\n",
       "  <tbody>\n",
       "    <tr>\n",
       "      <th>0</th>\n",
       "      <td>13021.0</td>\n",
       "      <td>7</td>\n",
       "      <td>customer_service</td>\n",
       "      <td>28</td>\n",
       "      <td>89000.0</td>\n",
       "      <td>3/24/14</td>\n",
       "      <td>10/30/15</td>\n",
       "      <td>1</td>\n",
       "      <td>10/30/15</td>\n",
       "      <td>2014-03-24</td>\n",
       "      <td>2015-10-30</td>\n",
       "      <td>2015-10-30</td>\n",
       "      <td>585 days</td>\n",
       "      <td>True</td>\n",
       "      <td>585.0</td>\n",
       "    </tr>\n",
       "    <tr>\n",
       "      <th>1</th>\n",
       "      <td>825355.0</td>\n",
       "      <td>7</td>\n",
       "      <td>marketing</td>\n",
       "      <td>20</td>\n",
       "      <td>183000.0</td>\n",
       "      <td>4/29/13</td>\n",
       "      <td>4/4/14</td>\n",
       "      <td>1</td>\n",
       "      <td>4/4/14</td>\n",
       "      <td>2013-04-29</td>\n",
       "      <td>2014-04-04</td>\n",
       "      <td>2014-04-04</td>\n",
       "      <td>340 days</td>\n",
       "      <td>True</td>\n",
       "      <td>340.0</td>\n",
       "    </tr>\n",
       "    <tr>\n",
       "      <th>2</th>\n",
       "      <td>927315.0</td>\n",
       "      <td>4</td>\n",
       "      <td>marketing</td>\n",
       "      <td>14</td>\n",
       "      <td>101000.0</td>\n",
       "      <td>10/13/14</td>\n",
       "      <td>NaN</td>\n",
       "      <td>0</td>\n",
       "      <td>12/13/15</td>\n",
       "      <td>2014-10-13</td>\n",
       "      <td>NaT</td>\n",
       "      <td>2015-12-13</td>\n",
       "      <td>426 days</td>\n",
       "      <td>False</td>\n",
       "      <td>426.0</td>\n",
       "    </tr>\n",
       "  </tbody>\n",
       "</table>\n",
       "</div>"
      ],
      "text/plain": [
       "   employee_id  company_id              dept  seniority    salary join_date  \\\n",
       "0      13021.0           7  customer_service         28   89000.0   3/24/14   \n",
       "1     825355.0           7         marketing         20  183000.0   4/29/13   \n",
       "2     927315.0           4         marketing         14  101000.0  10/13/14   \n",
       "\n",
       "  quit_date  quit_yn  end_date  JOIN_DATE  QUIT_DATE   END_DATE Duration  \\\n",
       "0  10/30/15        1  10/30/15 2014-03-24 2015-10-30 2015-10-30 585 days   \n",
       "1    4/4/14        1    4/4/14 2013-04-29 2014-04-04 2014-04-04 340 days   \n",
       "2       NaN        0  12/13/15 2014-10-13        NaT 2015-12-13 426 days   \n",
       "\n",
       "   Survive  Times  \n",
       "0     True  585.0  \n",
       "1     True  340.0  \n",
       "2    False  426.0  "
      ]
     },
     "execution_count": 13,
     "metadata": {},
     "output_type": "execute_result"
    }
   ],
   "source": [
    "# Having a look at the dataframe\n",
    "df.head(3)"
   ]
  },
  {
   "cell_type": "markdown",
   "metadata": {},
   "source": [
    "### Importing the package for survival analysi"
   ]
  },
  {
   "cell_type": "code",
   "execution_count": 14,
   "metadata": {
    "collapsed": true
   },
   "outputs": [],
   "source": [
    "from lifelines import KaplanMeierFitter"
   ]
  },
  {
   "cell_type": "markdown",
   "metadata": {},
   "source": [
    "### Let's look at the overall patter of survival across all companies, departments, pay grades, and levels of senority"
   ]
  },
  {
   "cell_type": "markdown",
   "metadata": {},
   "source": [
    "This is the highest level picture of the data"
   ]
  },
  {
   "cell_type": "code",
   "execution_count": 15,
   "metadata": {
    "collapsed": false
   },
   "outputs": [
    {
     "data": {
      "text/plain": [
       "<lifelines.KaplanMeierFitter: fitted with 24702 observations, 11192 censored>"
      ]
     },
     "execution_count": 15,
     "metadata": {},
     "output_type": "execute_result"
    }
   ],
   "source": [
    "# defing the function\n",
    "kmf = KaplanMeierFitter()\n",
    "\n",
    "#Add parameters in to fit the actual model\n",
    "kmf.fit(survival_times, event_observed=events)"
   ]
  },
  {
   "cell_type": "markdown",
   "metadata": {},
   "source": [
    "### Overall Survival for all employees acorss all variable"
   ]
  },
  {
   "cell_type": "code",
   "execution_count": 16,
   "metadata": {
    "collapsed": false
   },
   "outputs": [
    {
     "data": {
      "text/plain": [
       "<matplotlib.text.Text at 0x10fdb4eb8>"
      ]
     },
     "execution_count": 16,
     "metadata": {},
     "output_type": "execute_result"
    },
    {
     "data": {
      "image/png": "[encoded data removed]",
      "text/plain": [
       "<matplotlib.figure.Figure at 0x10fa1e320>"
      ]
     },
     "metadata": {},
     "output_type": "display_data"
    }
   ],
   "source": [
    "# Plot the survivial curve\n",
    "plt.rcParams.update({'font.size': 15})\n",
    "kmf.plot()\n",
    "plt.ylabel('Percent Survival')\n",
    "plt.title('Overall Employee Survival')"
   ]
  },
  {
   "cell_type": "markdown",
   "metadata": {},
   "source": [
    "Out of curiosity, what do the durations of employment look like? Does it make sense given this survival curve?"
   ]
  },
  {
   "cell_type": "code",
   "execution_count": 17,
   "metadata": {
    "collapsed": false
   },
   "outputs": [
    {
     "data": {
      "text/plain": [
       "<matplotlib.text.Text at 0x110407f98>"
      ]
     },
     "execution_count": 17,
     "metadata": {},
     "output_type": "execute_result"
    },
    {
     "data": {
      "image/png": "[encoded data removed]",
      "text/plain": [
       "<matplotlib.figure.Figure at 0x10fa1e2e8>"
      ]
     },
     "metadata": {},
     "output_type": "display_data"
    }
   ],
   "source": [
    "#Plot distribution of employee working durations\n",
    "df['Times'].hist()\n",
    "plt.xlabel('Survival Time (days)')\n",
    "plt.ylabel('Number of Observations')\n",
    "plt.title('Distribution of Survival Times')"
   ]
  },
  {
   "cell_type": "markdown",
   "metadata": {},
   "source": [
    "Most employees work at a company for between 250-500 days which corresponds to the what the survival function suggests"
   ]
  },
  {
   "cell_type": "markdown",
   "metadata": {},
   "source": [
    "## Takeaway number 1: "
   ]
  },
  {
   "cell_type": "markdown",
   "metadata": {},
   "source": [
    "Without seperating anything out ~ 100% of employees stay for around 1yr and then there is a sharp decline after the 1st year where ~ 40% of employees leave. After this, there is a relativley stable rate of leaving over the next several years of about 20% / year"
   ]
  },
  {
   "cell_type": "markdown",
   "metadata": {},
   "source": [
    "# Comparing survival rates across different companies"
   ]
  },
  {
   "cell_type": "code",
   "execution_count": 18,
   "metadata": {
    "collapsed": true
   },
   "outputs": [],
   "source": [
    "# Brute force: seperating data out for different companies:\n",
    "df_1 = df[df['company_id'] == 1]\n",
    "df_2 = df[df['company_id'] == 2]\n",
    "df_3 = df[df['company_id'] == 3]\n",
    "df_4 = df[df['company_id'] == 4]\n",
    "df_5 = df[df['company_id'] == 5]\n",
    "df_6 = df[df['company_id'] == 6]\n",
    "df_7 = df[df['company_id'] == 7]\n",
    "df_8 = df[df['company_id'] == 8]\n",
    "df_9 = df[df['company_id'] == 9]\n",
    "df_10 = df[df['company_id'] == 10]\n",
    "df_11 = df[df['company_id'] == 11]\n",
    "df_12 = df[df['company_id'] == 12]"
   ]
  },
  {
   "cell_type": "markdown",
   "metadata": {},
   "source": [
    "### defining event and survival time variables"
   ]
  },
  {
   "cell_type": "code",
   "execution_count": 19,
   "metadata": {
    "collapsed": true
   },
   "outputs": [],
   "source": [
    "events1 = df_1['Survive']\n",
    "events2 = df_2['Survive']\n",
    "events3 = df_3['Survive']\n",
    "events4 = df_4['Survive']\n",
    "events5 = df_5['Survive']\n",
    "events6 = df_6['Survive']\n",
    "events7 = df_7['Survive']\n",
    "events8 = df_8['Survive']\n",
    "events9 = df_9['Survive']\n",
    "events10 = df_10['Survive']\n",
    "events11 = df_11['Survive']\n",
    "events12 = df_12['Survive']\n",
    "\n",
    "times1 = df_1['Times']\n",
    "times2 = df_2['Times']\n",
    "times3 = df_3['Times']\n",
    "times4 = df_4['Times']\n",
    "times5 = df_5['Times']\n",
    "times6 = df_6['Times']\n",
    "times7 = df_7['Times']\n",
    "times8 = df_8['Times']\n",
    "times9 = df_9['Times']\n",
    "times10 = df_10['Times']\n",
    "times11 = df_11['Times']\n",
    "times12 = df_12['Times']"
   ]
  },
  {
   "cell_type": "code",
   "execution_count": 20,
   "metadata": {
    "collapsed": true
   },
   "outputs": [],
   "source": [
    "kmf_1 = KaplanMeierFitter()\n",
    "kmf_2 = KaplanMeierFitter()\n",
    "kmf_3 = KaplanMeierFitter()\n",
    "kmf_4 = KaplanMeierFitter()\n",
    "kmf_5 = KaplanMeierFitter()\n",
    "kmf_6 = KaplanMeierFitter()\n",
    "kmf_7 = KaplanMeierFitter()\n",
    "kmf_8 = KaplanMeierFitter()\n",
    "kmf_9 = KaplanMeierFitter()\n",
    "kmf_10 = KaplanMeierFitter()\n",
    "kmf_11 = KaplanMeierFitter()\n",
    "kmf_12 = KaplanMeierFitter()"
   ]
  },
  {
   "cell_type": "markdown",
   "metadata": {},
   "source": [
    "### Comparing survival curves at different companies"
   ]
  },
  {
   "cell_type": "code",
   "execution_count": 21,
   "metadata": {
    "collapsed": false
   },
   "outputs": [
    {
     "data": {
      "text/plain": [
       "<matplotlib.text.Text at 0x1104a1518>"
      ]
     },
     "execution_count": 21,
     "metadata": {},
     "output_type": "execute_result"
    },
    {
     "data": {
      "image/png": "[encoded data removed]",
      "text/plain": [
       "<matplotlib.figure.Figure at 0x110484a20>"
      ]
     },
     "metadata": {},
     "output_type": "display_data"
    }
   ],
   "source": [
    "plt.figure(figsize=(10,10))\n",
    "plt.rcParams.update({'font.size': 15})\n",
    "ax = plt.subplot(111)\n",
    "ax = kmf_1.fit(times1, event_observed=events1,label='company1').plot(ax=ax,ci_show=False)\n",
    "ax = kmf_2.fit(times2, event_observed=events2,label='company2').plot(ax=ax,ci_show=False)\n",
    "ax = kmf_3.fit(times3, event_observed=events3,label='company3').plot(ax=ax,ci_show=False)\n",
    "ax = kmf_4.fit(times4, event_observed=events4,label='company4').plot(ax=ax,ci_show=False)\n",
    "ax = kmf_5.fit(times5, event_observed=events5,label='company5').plot(ax=ax,ci_show=False)\n",
    "ax = kmf_6.fit(times6, event_observed=events6,label='company6').plot(ax=ax,ci_show=False)\n",
    "ax = kmf_7.fit(times7, event_observed=events7,label='company7').plot(ax=ax,ci_show=False)\n",
    "ax = kmf_8.fit(times8, event_observed=events8,label='company8').plot(ax=ax,ci_show=False)\n",
    "ax = kmf_9.fit(times9, event_observed=events9,label='company9').plot(ax=ax,ci_show=False)\n",
    "ax = kmf_10.fit(times10, event_observed=events10,label='company10').plot(ax=ax,ci_show=False)\n",
    "ax = kmf_11.fit(times11, event_observed=events11,label='company11').plot(ax=ax,ci_show=False)\n",
    "ax = kmf_12.fit(times12, event_observed=events12,label='company12').plot(ax=ax,ci_show=False)\n",
    "plt.ylabel('Percent Survival')\n",
    "plt.title('Survival at Different Companies')\n"
   ]
  },
  {
   "cell_type": "markdown",
   "metadata": {},
   "source": [
    "### Takeaway Number 2:"
   ]
  },
  {
   "cell_type": "markdown",
   "metadata": {},
   "source": [
    "Overall, threre is very little difference in the overall pattern of survival across the different companies... All follow the same pattern described about (~40% employee loss after 1 year)"
   ]
  },
  {
   "cell_type": "markdown",
   "metadata": {},
   "source": [
    "Most discrepant companies are the ones with the fewest employees in this dataset, # 11 and 12 (See histogram below)"
   ]
  },
  {
   "cell_type": "code",
   "execution_count": 22,
   "metadata": {
    "collapsed": false
   },
   "outputs": [
    {
     "data": {
      "text/plain": [
       "<matplotlib.text.Text at 0x114136908>"
      ]
     },
     "execution_count": 22,
     "metadata": {},
     "output_type": "execute_result"
    },
    {
     "data": {
      "image/png": "[encoded data removed]",
      "text/plain": [
       "<matplotlib.figure.Figure at 0x10fe92fd0>"
      ]
     },
     "metadata": {},
     "output_type": "display_data"
    }
   ],
   "source": [
    "df['company_id'].hist()\n",
    "plt.xlabel('Company ID')\n",
    "plt.ylabel('NUmber of Employees')\n",
    "plt.title('Number of Employees at different companies')"
   ]
  },
  {
   "cell_type": "markdown",
   "metadata": {},
   "source": [
    "# Comparing survival rates across different departments"
   ]
  },
  {
   "cell_type": "markdown",
   "metadata": {},
   "source": [
    "### Getting data for each different department"
   ]
  },
  {
   "cell_type": "code",
   "execution_count": 23,
   "metadata": {
    "collapsed": true
   },
   "outputs": [],
   "source": [
    "# Brute force \n",
    "df_customer_service = df[df['dept'] == 'customer_service']\n",
    "df_data_science = df[df['dept'] == 'data_science']\n",
    "df_design = df[df['dept'] == 'design']\n",
    "df_engineer = df[df['dept'] == 'engineer']\n",
    "df_marketing = df[df['dept'] == 'marketing']\n",
    "df_sales = df[df['dept'] == 'sales']"
   ]
  },
  {
   "cell_type": "code",
   "execution_count": 24,
   "metadata": {
    "collapsed": true
   },
   "outputs": [],
   "source": [
    "# Defining events and survival times\n",
    "events_cust = df_customer_service['Survive']\n",
    "events_data = df_data_science['Survive']\n",
    "events_design = df_design['Survive']\n",
    "events_engineer = df_engineer['Survive']\n",
    "events_marketing = df_marketing['Survive']\n",
    "events_sales = df_sales['Survive']\n",
    "\n",
    "times_cust = df_customer_service['Times']\n",
    "times_data = df_data_science['Times']\n",
    "times_design = df_design['Times']\n",
    "times_engineer = df_engineer['Times']\n",
    "times_marketing = df_marketing['Times']\n",
    "times_sales = df_sales['Times']"
   ]
  },
  {
   "cell_type": "code",
   "execution_count": 25,
   "metadata": {
    "collapsed": true
   },
   "outputs": [],
   "source": [
    "# Defining the model\n",
    "kmf_cust = KaplanMeierFitter()\n",
    "kmf_data = KaplanMeierFitter()\n",
    "kmf_design = KaplanMeierFitter()\n",
    "kmf_engineer = KaplanMeierFitter()\n",
    "kmf_marketing = KaplanMeierFitter()\n",
    "kmf_sales = KaplanMeierFitter()"
   ]
  },
  {
   "cell_type": "markdown",
   "metadata": {},
   "source": [
    "### Plotting survival by department type"
   ]
  },
  {
   "cell_type": "code",
   "execution_count": 26,
   "metadata": {
    "collapsed": false
   },
   "outputs": [
    {
     "data": {
      "text/plain": [
       "<matplotlib.text.Text at 0x1146371d0>"
      ]
     },
     "execution_count": 26,
     "metadata": {},
     "output_type": "execute_result"
    },
    {
     "data": {
      "image/png": "[encoded data removed]",
      "text/plain": [
       "<matplotlib.figure.Figure at 0x114189b70>"
      ]
     },
     "metadata": {},
     "output_type": "display_data"
    }
   ],
   "source": [
    "plt.figure(figsize=(9,9))\n",
    "ax = plt.subplot(111)\n",
    "\n",
    "ax = kmf_cust.fit(times_cust, event_observed = events_cust, label = 'customer_service').plot(ax=ax,ci_show=False)\n",
    "ax = kmf_data.fit(times_data, event_observed = events_data,label = 'data_science').plot(ax=ax,ci_show=False)\n",
    "ax = kmf_design.fit(times_design, event_observed = events_design,label = 'design').plot(ax=ax,ci_show=False)\n",
    "ax = kmf_engineer.fit(times_engineer, event_observed = events_engineer,label = 'engineer').plot(ax=ax,ci_show=False)\n",
    "ax = kmf_marketing.fit(times_marketing, event_observed = events_marketing,label = 'marketing').plot(ax=ax,ci_show=False)\n",
    "ax = kmf_sales.fit(times_sales, event_observed = events_sales,label = 'Times').plot(ax=ax,ci_show=False)\n",
    "\n",
    "plt.ylabel('Percent Survival')\n",
    "plt.title('Survival by department type')"
   ]
  },
  {
   "cell_type": "markdown",
   "metadata": {},
   "source": [
    "### Takeaway Number 3:"
   ]
  },
  {
   "cell_type": "markdown",
   "metadata": {},
   "source": [
    "All departments follow the same overall patter described above. Datascience and engineering loose slightly less employees during the 1st year drop off, but then rates of loss are ~ to other departments thereafter "
   ]
  },
  {
   "cell_type": "markdown",
   "metadata": {},
   "source": [
    "# Comparing Survival Rates at different senority levels"
   ]
  },
  {
   "cell_type": "code",
   "execution_count": 27,
   "metadata": {
    "collapsed": false
   },
   "outputs": [
    {
     "data": {
      "text/plain": [
       "<matplotlib.text.Text at 0x1140e3e10>"
      ]
     },
     "execution_count": 27,
     "metadata": {},
     "output_type": "execute_result"
    },
    {
     "data": {
      "image/png": "[encoded data removed]",
      "text/plain": [
       "<matplotlib.figure.Figure at 0x10fe96c50>"
      ]
     },
     "metadata": {},
     "output_type": "display_data"
    }
   ],
   "source": [
    "df['seniority'].hist()\n",
    "plt.ylabel('Number of Observatins')\n",
    "plt.xlabel('Senority')\n",
    "plt.title('Distribution of Senority')"
   ]
  },
  {
   "cell_type": "markdown",
   "metadata": {},
   "source": [
    "Must be a few outliers values here..."
   ]
  },
  {
   "cell_type": "code",
   "execution_count": 28,
   "metadata": {
    "collapsed": false
   },
   "outputs": [
    {
     "data": {
      "text/plain": [
       "count    24702.000000\n",
       "mean        14.127803\n",
       "std          8.089520\n",
       "min          1.000000\n",
       "25%          7.000000\n",
       "50%         14.000000\n",
       "75%         21.000000\n",
       "max         99.000000\n",
       "Name: seniority, dtype: float64"
      ]
     },
     "execution_count": 28,
     "metadata": {},
     "output_type": "execute_result"
    }
   ],
   "source": [
    "df['seniority'].describe()"
   ]
  },
  {
   "cell_type": "markdown",
   "metadata": {},
   "source": [
    "##  Breaking senority up in 5 year buckets"
   ]
  },
  {
   "cell_type": "code",
   "execution_count": 29,
   "metadata": {
    "collapsed": true
   },
   "outputs": [],
   "source": [
    "# getting the data\n",
    "df_sen0_5 = df[(df['seniority'] > 0) & (df['seniority'] <=5)]\n",
    "df_sen5_10 = df[(df['seniority'] > 5) & (df['seniority'] <=10)]\n",
    "df_sen10_15 = df[(df['seniority'] > 10) & (df['seniority'] <=15)]\n",
    "df_sen15_20 = df[(df['seniority'] > 15) & (df['seniority'] <=20)]\n",
    "df_sen20_25 = df[(df['seniority'] > 20) & (df['seniority'] <=25)]\n",
    "df_sen25_up = df[df['seniority'] > 25]"
   ]
  },
  {
   "cell_type": "code",
   "execution_count": 30,
   "metadata": {
    "collapsed": true
   },
   "outputs": [],
   "source": [
    "# Defining events and survival times\n",
    "events_sen0_5 = df_sen0_5['Survive']\n",
    "events_sen5_10 = df_sen5_10['Survive']\n",
    "events_sen10_15 = df_sen10_15['Survive']\n",
    "events_sen15_20 = df_sen15_20['Survive']\n",
    "events_sen20_25 = df_sen20_25['Survive']\n",
    "events_sen25_up = df_sen25_up['Survive']\n",
    "\n",
    "times_sen0_5 = df_sen0_5['Times']\n",
    "times_sen5_10 = df_sen5_10['Times']\n",
    "times_sen10_15 = df_sen10_15['Times']\n",
    "times_sen15_20 = df_sen15_20['Times']\n",
    "times_sen20_25 = df_sen20_25['Times']\n",
    "times_sen25_up = df_sen25_up['Times']"
   ]
  },
  {
   "cell_type": "code",
   "execution_count": 31,
   "metadata": {
    "collapsed": true
   },
   "outputs": [],
   "source": [
    "#Defining the models\n",
    "kmf_sen0_5 = KaplanMeierFitter()\n",
    "kmf_sen5_10 = KaplanMeierFitter()\n",
    "kmf_sen10_15 = KaplanMeierFitter()\n",
    "kmf_sen15_20 = KaplanMeierFitter()\n",
    "kmf_sen20_25 = KaplanMeierFitter()\n",
    "kmf_sen25_up = KaplanMeierFitter()"
   ]
  },
  {
   "cell_type": "markdown",
   "metadata": {},
   "source": [
    "### Comparing survival at different senority levels"
   ]
  },
  {
   "cell_type": "code",
   "execution_count": 32,
   "metadata": {
    "collapsed": false
   },
   "outputs": [
    {
     "data": {
      "text/plain": [
       "<matplotlib.text.Text at 0x114725438>"
      ]
     },
     "execution_count": 32,
     "metadata": {},
     "output_type": "execute_result"
    },
    {
     "data": {
      "image/png": "[encoded data removed]",
      "text/plain": [
       "<matplotlib.figure.Figure at 0x110757828>"
      ]
     },
     "metadata": {},
     "output_type": "display_data"
    }
   ],
   "source": [
    "# Plotting the data\n",
    "plt.figure(figsize=(6,6))\n",
    "ax = plt.subplot(111)\n",
    "\n",
    "ax = kmf_sen0_5.fit(times_sen0_5, event_observed = events_sen0_5, label = '0-5 years').plot(ax=ax,ci_show=False)\n",
    "ax = kmf_sen5_10.fit(times_sen5_10, event_observed = events_sen5_10,label = '5-10 years').plot(ax=ax,ci_show=False)\n",
    "ax = kmf_sen10_15.fit(times_sen10_15, event_observed = events_sen10_15,label = '10-15 years').plot(ax=ax,ci_show=False)\n",
    "ax = kmf_sen15_20.fit(times_sen15_20, event_observed = events_sen15_20,label = '15-20 years').plot(ax=ax,ci_show=False)\n",
    "ax = kmf_sen20_25.fit(times_sen20_25, event_observed = events_sen20_25,label = '20-25 years').plot(ax=ax,ci_show=False)\n",
    "ax = kmf_sen25_up.fit(times_sen25_up, event_observed = events_sen25_up,label = '25+ years').plot(ax=ax,ci_show=False)\n",
    "\n",
    "plt.ylabel('Percent Survival')\n",
    "plt.title('Survival by Senority Level')"
   ]
  },
  {
   "cell_type": "markdown",
   "metadata": {},
   "source": [
    "## Takeaway Number 4:"
   ]
  },
  {
   "cell_type": "markdown",
   "metadata": {},
   "source": [
    "Still, the overall patter as described above still holds regardless of senority. All senority levels have highly similar 1st year attrition rates, then they differ slightly thereafter"
   ]
  },
  {
   "cell_type": "markdown",
   "metadata": {},
   "source": [
    "# Comparing Survival rates across different salary brakets"
   ]
  },
  {
   "cell_type": "code",
   "execution_count": 33,
   "metadata": {
    "collapsed": false
   },
   "outputs": [
    {
     "data": {
      "text/plain": [
       "<matplotlib.text.Text at 0x1151064e0>"
      ]
     },
     "execution_count": 33,
     "metadata": {},
     "output_type": "execute_result"
    },
    {
     "data": {
      "image/png": "[encoded data removed]",
      "text/plain": [
       "<matplotlib.figure.Figure at 0x1107c3e48>"
      ]
     },
     "metadata": {},
     "output_type": "display_data"
    }
   ],
   "source": [
    "df['salary'].hist()\n",
    "plt.xlabel('Salary')\n",
    "plt.title('Distribution of Salaries')\n",
    "plt.ylabel('Salary')"
   ]
  },
  {
   "cell_type": "code",
   "execution_count": 34,
   "metadata": {
    "collapsed": false
   },
   "outputs": [
    {
     "data": {
      "text/plain": [
       "count     24702.000000\n",
       "mean     138183.345478\n",
       "std       76058.184573\n",
       "min       17000.000000\n",
       "25%       79000.000000\n",
       "50%      123000.000000\n",
       "75%      187000.000000\n",
       "max      408000.000000\n",
       "Name: salary, dtype: float64"
      ]
     },
     "execution_count": 34,
     "metadata": {},
     "output_type": "execute_result"
    }
   ],
   "source": [
    "df['salary'].describe()"
   ]
  },
  {
   "cell_type": "markdown",
   "metadata": {},
   "source": [
    "### Going to break salary up in 100K brakets"
   ]
  },
  {
   "cell_type": "code",
   "execution_count": 35,
   "metadata": {
    "collapsed": true
   },
   "outputs": [],
   "source": [
    "# Getting the data\n",
    "df_sal0_100 = df[(df['salary'] > 0) & (df['salary'] <=100000)]\n",
    "df_sal100_200 = df[(df['salary'] > 100000) & (df['salary'] <=200000)]\n",
    "df_sal200_300 = df[(df['salary'] > 200000) & (df['salary'] <=300000)]\n",
    "df_sal300_up = df[df['salary'] > 300000]"
   ]
  },
  {
   "cell_type": "code",
   "execution_count": 36,
   "metadata": {
    "collapsed": true
   },
   "outputs": [],
   "source": [
    "# Defining events and survival times\n",
    "events_sal0_100 = df_sal0_100['Survive']\n",
    "events_sal100_200 = df_sal100_200['Survive']\n",
    "events_sal200_300 = df_sal200_300['Survive']\n",
    "events_sal300_up = df_sal300_up['Survive']\n",
    "\n",
    "times_sal0_100 = df_sal0_100['Times']\n",
    "times_sal100_200 = df_sal100_200['Times']\n",
    "times_sal200_300 = df_sal200_300['Times']\n",
    "times_sal300_up = df_sal300_up['Times']"
   ]
  },
  {
   "cell_type": "code",
   "execution_count": 37,
   "metadata": {
    "collapsed": true
   },
   "outputs": [],
   "source": [
    "#Defining the model\n",
    "kmf_sal0_100 = KaplanMeierFitter()\n",
    "kmf_sal100_200 = KaplanMeierFitter()\n",
    "kmf_sal200_300 = KaplanMeierFitter()\n",
    "kmf_sal300_up = KaplanMeierFitter()"
   ]
  },
  {
   "cell_type": "markdown",
   "metadata": {},
   "source": [
    "### Comparing survival curves across different salary brackets"
   ]
  },
  {
   "cell_type": "code",
   "execution_count": 38,
   "metadata": {
    "collapsed": false
   },
   "outputs": [
    {
     "data": {
      "text/plain": [
       "<matplotlib.text.Text at 0x11559dcc0>"
      ]
     },
     "execution_count": 38,
     "metadata": {},
     "output_type": "execute_result"
    },
    {
     "data": {
      "image/png": "[encoded data removed]",
      "text/plain": [
       "<matplotlib.figure.Figure at 0x1153af5c0>"
      ]
     },
     "metadata": {},
     "output_type": "display_data"
    }
   ],
   "source": [
    "#Plotting the data\n",
    "plt.figure(figsize=(8,8))\n",
    "ax = plt.subplot(111)\n",
    "\n",
    "ax = kmf_sal0_100.fit(times_sal0_100, event_observed = events_sal0_100, label = '0-100k').plot(ax=ax,ci_show=False)\n",
    "ax = kmf_sal100_200.fit(times_sal100_200, event_observed = events_sal100_200,label = '100-200k').plot(ax=ax,ci_show=False)\n",
    "ax = kmf_sal200_300.fit(times_sal200_300, event_observed = events_sal200_300,label = '200-300k').plot(ax=ax,ci_show=False)\n",
    "ax = kmf_sal300_up.fit(times_sal300_up, event_observed = events_sal300_up,label = '300k and up').plot(ax=ax,ci_show=False)\n",
    "\n",
    "plt.ylabel('Percent Survival')\n",
    "plt.title('Survival Across Salary Brakets')"
   ]
  },
  {
   "cell_type": "markdown",
   "metadata": {},
   "source": [
    "## Takeaway: Salary has biggest impact on survival rates"
   ]
  },
  {
   "cell_type": "markdown",
   "metadata": {},
   "source": [
    "This factor above all of the others seems to impact rates of attrition after the first year. Highest paid employees don't leave at the same rates as others and 100K-200K leave at the highest rate compared to others in the first year"
   ]
  },
  {
   "cell_type": "markdown",
   "metadata": {},
   "source": [
    "# = = = = = = = = = \n",
    "# Developing a predictive model"
   ]
  },
  {
   "cell_type": "code",
   "execution_count": 39,
   "metadata": {},
   "outputs": [
    {
     "data": {
      "text/html": [
       "<div>\n",
       "<style>\n",
       "    .dataframe thead tr:only-child th {\n",
       "        text-align: right;\n",
       "    }\n",
       "\n",
       "    .dataframe thead th {\n",
       "        text-align: left;\n",
       "    }\n",
       "\n",
       "    .dataframe tbody tr th {\n",
       "        vertical-align: top;\n",
       "    }\n",
       "</style>\n",
       "<table border=\"1\" class=\"dataframe\">\n",
       "  <thead>\n",
       "    <tr style=\"text-align: right;\">\n",
       "      <th></th>\n",
       "      <th>employee_id</th>\n",
       "      <th>company_id</th>\n",
       "      <th>dept</th>\n",
       "      <th>seniority</th>\n",
       "      <th>salary</th>\n",
       "      <th>join_date</th>\n",
       "      <th>quit_date</th>\n",
       "      <th>quit_yn</th>\n",
       "      <th>end_date</th>\n",
       "      <th>JOIN_DATE</th>\n",
       "      <th>QUIT_DATE</th>\n",
       "      <th>END_DATE</th>\n",
       "      <th>Duration</th>\n",
       "      <th>Survive</th>\n",
       "      <th>Times</th>\n",
       "    </tr>\n",
       "  </thead>\n",
       "  <tbody>\n",
       "    <tr>\n",
       "      <th>0</th>\n",
       "      <td>13021.0</td>\n",
       "      <td>7</td>\n",
       "      <td>customer_service</td>\n",
       "      <td>28</td>\n",
       "      <td>89000.0</td>\n",
       "      <td>3/24/14</td>\n",
       "      <td>10/30/15</td>\n",
       "      <td>1</td>\n",
       "      <td>10/30/15</td>\n",
       "      <td>2014-03-24</td>\n",
       "      <td>2015-10-30</td>\n",
       "      <td>2015-10-30</td>\n",
       "      <td>585 days</td>\n",
       "      <td>True</td>\n",
       "      <td>585.0</td>\n",
       "    </tr>\n",
       "    <tr>\n",
       "      <th>1</th>\n",
       "      <td>825355.0</td>\n",
       "      <td>7</td>\n",
       "      <td>marketing</td>\n",
       "      <td>20</td>\n",
       "      <td>183000.0</td>\n",
       "      <td>4/29/13</td>\n",
       "      <td>4/4/14</td>\n",
       "      <td>1</td>\n",
       "      <td>4/4/14</td>\n",
       "      <td>2013-04-29</td>\n",
       "      <td>2014-04-04</td>\n",
       "      <td>2014-04-04</td>\n",
       "      <td>340 days</td>\n",
       "      <td>True</td>\n",
       "      <td>340.0</td>\n",
       "    </tr>\n",
       "    <tr>\n",
       "      <th>2</th>\n",
       "      <td>927315.0</td>\n",
       "      <td>4</td>\n",
       "      <td>marketing</td>\n",
       "      <td>14</td>\n",
       "      <td>101000.0</td>\n",
       "      <td>10/13/14</td>\n",
       "      <td>NaN</td>\n",
       "      <td>0</td>\n",
       "      <td>12/13/15</td>\n",
       "      <td>2014-10-13</td>\n",
       "      <td>NaT</td>\n",
       "      <td>2015-12-13</td>\n",
       "      <td>426 days</td>\n",
       "      <td>False</td>\n",
       "      <td>426.0</td>\n",
       "    </tr>\n",
       "    <tr>\n",
       "      <th>3</th>\n",
       "      <td>662910.0</td>\n",
       "      <td>7</td>\n",
       "      <td>customer_service</td>\n",
       "      <td>20</td>\n",
       "      <td>115000.0</td>\n",
       "      <td>5/14/12</td>\n",
       "      <td>6/7/13</td>\n",
       "      <td>1</td>\n",
       "      <td>6/7/13</td>\n",
       "      <td>2012-05-14</td>\n",
       "      <td>2013-06-07</td>\n",
       "      <td>2013-06-07</td>\n",
       "      <td>389 days</td>\n",
       "      <td>True</td>\n",
       "      <td>389.0</td>\n",
       "    </tr>\n",
       "  </tbody>\n",
       "</table>\n",
       "</div>"
      ],
      "text/plain": [
       "   employee_id  company_id              dept  seniority    salary join_date  \\\n",
       "0      13021.0           7  customer_service         28   89000.0   3/24/14   \n",
       "1     825355.0           7         marketing         20  183000.0   4/29/13   \n",
       "2     927315.0           4         marketing         14  101000.0  10/13/14   \n",
       "3     662910.0           7  customer_service         20  115000.0   5/14/12   \n",
       "\n",
       "  quit_date  quit_yn  end_date  JOIN_DATE  QUIT_DATE   END_DATE Duration  \\\n",
       "0  10/30/15        1  10/30/15 2014-03-24 2015-10-30 2015-10-30 585 days   \n",
       "1    4/4/14        1    4/4/14 2013-04-29 2014-04-04 2014-04-04 340 days   \n",
       "2       NaN        0  12/13/15 2014-10-13        NaT 2015-12-13 426 days   \n",
       "3    6/7/13        1    6/7/13 2012-05-14 2013-06-07 2013-06-07 389 days   \n",
       "\n",
       "   Survive  Times  \n",
       "0     True  585.0  \n",
       "1     True  340.0  \n",
       "2    False  426.0  \n",
       "3     True  389.0  "
      ]
     },
     "execution_count": 39,
     "metadata": {},
     "output_type": "execute_result"
    }
   ],
   "source": [
    "df.head(4)"
   ]
  },
  {
   "cell_type": "markdown",
   "metadata": {},
   "source": [
    "## 1) Cleaning the data"
   ]
  },
  {
   "cell_type": "markdown",
   "metadata": {},
   "source": [
    "### Quick overview of data"
   ]
  },
  {
   "cell_type": "code",
   "execution_count": 40,
   "metadata": {},
   "outputs": [
    {
     "data": {
      "text/html": [
       "<div>\n",
       "<style>\n",
       "    .dataframe thead tr:only-child th {\n",
       "        text-align: right;\n",
       "    }\n",
       "\n",
       "    .dataframe thead th {\n",
       "        text-align: left;\n",
       "    }\n",
       "\n",
       "    .dataframe tbody tr th {\n",
       "        vertical-align: top;\n",
       "    }\n",
       "</style>\n",
       "<table border=\"1\" class=\"dataframe\">\n",
       "  <thead>\n",
       "    <tr style=\"text-align: right;\">\n",
       "      <th></th>\n",
       "      <th>employee_id</th>\n",
       "      <th>company_id</th>\n",
       "      <th>seniority</th>\n",
       "      <th>salary</th>\n",
       "      <th>quit_yn</th>\n",
       "      <th>Duration</th>\n",
       "      <th>Times</th>\n",
       "    </tr>\n",
       "  </thead>\n",
       "  <tbody>\n",
       "    <tr>\n",
       "      <th>count</th>\n",
       "      <td>24702.000000</td>\n",
       "      <td>24702.000000</td>\n",
       "      <td>24702.000000</td>\n",
       "      <td>24702.000000</td>\n",
       "      <td>24702.000000</td>\n",
       "      <td>24702</td>\n",
       "      <td>24702.000000</td>\n",
       "    </tr>\n",
       "    <tr>\n",
       "      <th>mean</th>\n",
       "      <td>501604.403530</td>\n",
       "      <td>3.426969</td>\n",
       "      <td>14.127803</td>\n",
       "      <td>138183.345478</td>\n",
       "      <td>0.546919</td>\n",
       "      <td>574 days 07:39:28.812241</td>\n",
       "      <td>574.319083</td>\n",
       "    </tr>\n",
       "    <tr>\n",
       "      <th>std</th>\n",
       "      <td>288909.026101</td>\n",
       "      <td>2.700011</td>\n",
       "      <td>8.089520</td>\n",
       "      <td>76058.184573</td>\n",
       "      <td>0.497804</td>\n",
       "      <td>361 days 14:13:01.578145</td>\n",
       "      <td>361.592379</td>\n",
       "    </tr>\n",
       "    <tr>\n",
       "      <th>min</th>\n",
       "      <td>36.000000</td>\n",
       "      <td>1.000000</td>\n",
       "      <td>1.000000</td>\n",
       "      <td>17000.000000</td>\n",
       "      <td>0.000000</td>\n",
       "      <td>3 days 00:00:00</td>\n",
       "      <td>3.000000</td>\n",
       "    </tr>\n",
       "    <tr>\n",
       "      <th>25%</th>\n",
       "      <td>250133.750000</td>\n",
       "      <td>1.000000</td>\n",
       "      <td>7.000000</td>\n",
       "      <td>79000.000000</td>\n",
       "      <td>0.000000</td>\n",
       "      <td>333 days 00:00:00</td>\n",
       "      <td>333.000000</td>\n",
       "    </tr>\n",
       "    <tr>\n",
       "      <th>50%</th>\n",
       "      <td>500793.000000</td>\n",
       "      <td>2.000000</td>\n",
       "      <td>14.000000</td>\n",
       "      <td>123000.000000</td>\n",
       "      <td>1.000000</td>\n",
       "      <td>424 days 00:00:00</td>\n",
       "      <td>424.000000</td>\n",
       "    </tr>\n",
       "    <tr>\n",
       "      <th>75%</th>\n",
       "      <td>753137.250000</td>\n",
       "      <td>5.000000</td>\n",
       "      <td>21.000000</td>\n",
       "      <td>187000.000000</td>\n",
       "      <td>1.000000</td>\n",
       "      <td>781 days 00:00:00</td>\n",
       "      <td>781.000000</td>\n",
       "    </tr>\n",
       "    <tr>\n",
       "      <th>max</th>\n",
       "      <td>999969.000000</td>\n",
       "      <td>12.000000</td>\n",
       "      <td>99.000000</td>\n",
       "      <td>408000.000000</td>\n",
       "      <td>1.000000</td>\n",
       "      <td>1777 days 00:00:00</td>\n",
       "      <td>1777.000000</td>\n",
       "    </tr>\n",
       "  </tbody>\n",
       "</table>\n",
       "</div>"
      ],
      "text/plain": [
       "         employee_id    company_id     seniority         salary       quit_yn  \\\n",
       "count   24702.000000  24702.000000  24702.000000   24702.000000  24702.000000   \n",
       "mean   501604.403530      3.426969     14.127803  138183.345478      0.546919   \n",
       "std    288909.026101      2.700011      8.089520   76058.184573      0.497804   \n",
       "min        36.000000      1.000000      1.000000   17000.000000      0.000000   \n",
       "25%    250133.750000      1.000000      7.000000   79000.000000      0.000000   \n",
       "50%    500793.000000      2.000000     14.000000  123000.000000      1.000000   \n",
       "75%    753137.250000      5.000000     21.000000  187000.000000      1.000000   \n",
       "max    999969.000000     12.000000     99.000000  408000.000000      1.000000   \n",
       "\n",
       "                       Duration         Times  \n",
       "count                     24702  24702.000000  \n",
       "mean   574 days 07:39:28.812241    574.319083  \n",
       "std    361 days 14:13:01.578145    361.592379  \n",
       "min             3 days 00:00:00      3.000000  \n",
       "25%           333 days 00:00:00    333.000000  \n",
       "50%           424 days 00:00:00    424.000000  \n",
       "75%           781 days 00:00:00    781.000000  \n",
       "max          1777 days 00:00:00   1777.000000  "
      ]
     },
     "execution_count": 40,
     "metadata": {},
     "output_type": "execute_result"
    }
   ],
   "source": [
    "df.describe()"
   ]
  },
  {
   "cell_type": "markdown",
   "metadata": {},
   "source": [
    "Seems odd that an employee is 99.. possible but seems like a mistake"
   ]
  },
  {
   "cell_type": "code",
   "execution_count": 41,
   "metadata": {},
   "outputs": [
    {
     "data": {
      "text/plain": [
       "array([28, 20, 14, 23, 21,  4,  7, 13, 17,  1, 10,  6, 19, 15, 26, 27,  5,\n",
       "       18, 16, 25,  9,  2, 29,  3,  8, 22, 24, 12, 11, 98, 99])"
      ]
     },
     "execution_count": 41,
     "metadata": {},
     "output_type": "execute_result"
    }
   ],
   "source": [
    "# What are the different values for senority?\n",
    "df['seniority'].unique()"
   ]
  },
  {
   "cell_type": "markdown",
   "metadata": {},
   "source": [
    "### Creating a record at this point in time before changing the data frame"
   ]
  },
  {
   "cell_type": "code",
   "execution_count": 42,
   "metadata": {},
   "outputs": [],
   "source": [
    "df_record1 = df"
   ]
  },
  {
   "cell_type": "code",
   "execution_count": 43,
   "metadata": {},
   "outputs": [],
   "source": [
    "# Remove rows with wrong values for seniority:\n",
    "\n",
    "wrong_sen_mask = df['seniority'] > 70"
   ]
  },
  {
   "cell_type": "code",
   "execution_count": 44,
   "metadata": {},
   "outputs": [
    {
     "data": {
      "text/plain": [
       "(24702, 15)"
      ]
     },
     "execution_count": 44,
     "metadata": {},
     "output_type": "execute_result"
    }
   ],
   "source": [
    "df.shape"
   ]
  },
  {
   "cell_type": "markdown",
   "metadata": {},
   "source": [
    "### Dropping employees with error senority"
   ]
  },
  {
   "cell_type": "code",
   "execution_count": 45,
   "metadata": {},
   "outputs": [],
   "source": [
    "df.drop(df[wrong_sen_mask].index,axis = 0,inplace=True)"
   ]
  },
  {
   "cell_type": "code",
   "execution_count": 46,
   "metadata": {},
   "outputs": [
    {
     "data": {
      "text/plain": [
       "(24700, 15)"
      ]
     },
     "execution_count": 46,
     "metadata": {},
     "output_type": "execute_result"
    }
   ],
   "source": [
    "df.shape"
   ]
  },
  {
   "cell_type": "markdown",
   "metadata": {},
   "source": [
    "Dropped 2 employees"
   ]
  },
  {
   "cell_type": "code",
   "execution_count": 47,
   "metadata": {},
   "outputs": [
    {
     "data": {
      "text/plain": [
       "Index(['employee_id', 'company_id', 'dept', 'seniority', 'salary', 'join_date',\n",
       "       'quit_date', 'quit_yn', 'end_date', 'JOIN_DATE', 'QUIT_DATE',\n",
       "       'END_DATE', 'Duration', 'Survive', 'Times'],\n",
       "      dtype='object')"
      ]
     },
     "execution_count": 47,
     "metadata": {},
     "output_type": "execute_result"
    }
   ],
   "source": [
    "df.columns"
   ]
  },
  {
   "cell_type": "markdown",
   "metadata": {},
   "source": [
    "## Cox-proportional hazard model"
   ]
  },
  {
   "cell_type": "code",
   "execution_count": 49,
   "metadata": {},
   "outputs": [
    {
     "data": {
      "text/plain": [
       "array(['customer_service', 'marketing', 'data_science', 'engineer',\n",
       "       'sales', 'design'], dtype=object)"
      ]
     },
     "execution_count": 49,
     "metadata": {},
     "output_type": "execute_result"
    }
   ],
   "source": [
    "# 1 for those who quit during the monitoring time and 0 for those who did not:\n",
    "df['quit'] = (pd.notnull(df['quit_date'])).astype('int')\n",
    "\n",
    "# Duration of survival:\n",
    "df['days'] = df['Times']\n",
    "\n",
    "# Hot one encoding of departments:\n",
    "pd.unique(df.dept)"
   ]
  },
  {
   "cell_type": "markdown",
   "metadata": {},
   "source": [
    "### One hot encoding by hand"
   ]
  },
  {
   "cell_type": "code",
   "execution_count": 50,
   "metadata": {},
   "outputs": [],
   "source": [
    "df['customer_service'] = (df['dept'] == 'customer_service').astype('int')\n",
    "df['marketing'] = (df['dept'] == 'marketing').astype('int')\n",
    "df['data_science'] = (df['dept'] == 'data_science').astype('int')\n",
    "df['engineer'] = (df['dept'] == 'engineer').astype('int')\n",
    "df['sales'] = (df['dept'] == 'sales').astype('int')\n",
    "df['design'] = (df['dept'] == 'design').astype('int')"
   ]
  },
  {
   "cell_type": "markdown",
   "metadata": {},
   "source": [
    "### Normalizing salary and senority data"
   ]
  },
  {
   "cell_type": "code",
   "execution_count": 51,
   "metadata": {},
   "outputs": [],
   "source": [
    "norm_sal = (df['salary']-df['salary'].min())/(df['salary'].max()-df['salary'].min())\n",
    "norm_sen = (df['seniority']-df['seniority'].min())/(df['seniority'].max()-df['seniority'].min())\n",
    "norm_times = (df['Times']-df['Times'].min())/(df['Times'].max()-df['Times'].min())\n",
    "\n",
    "emp_norm = df.copy()\n",
    "emp_norm['salary'] = norm_sal\n",
    "emp_norm['seniority'] = norm_sen\n",
    "emp_norm['Times'] = norm_times\n",
    "\n",
    "# Drop the unnecessary columns: \n",
    "emp_norm.drop(['employee_id','company_id','dept','join_date','quit_date'],axis = 1,inplace = True)"
   ]
  },
  {
   "cell_type": "markdown",
   "metadata": {},
   "source": [
    "### Creating new interaction varibales: Time x Salary, Time x Senority, Salary x Senority"
   ]
  },
  {
   "cell_type": "code",
   "execution_count": 52,
   "metadata": {},
   "outputs": [],
   "source": [
    "emp_norm['Time_Sal'] = emp_norm['Times'] * emp_norm['salary']\n",
    "emp_norm['Time_Sen'] = emp_norm['Times'] * emp_norm['seniority']\n",
    "emp_norm['Sal_Sen'] = emp_norm['salary'] * emp_norm['seniority']"
   ]
  },
  {
   "cell_type": "markdown",
   "metadata": {},
   "source": [
    "### Plotting rescaled salary and senority variables"
   ]
  },
  {
   "cell_type": "code",
   "execution_count": 53,
   "metadata": {},
   "outputs": [
    {
     "data": {
      "text/plain": [
       "<matplotlib.text.Text at 0x115e26ef0>"
      ]
     },
     "execution_count": 53,
     "metadata": {},
     "output_type": "execute_result"
    },
    {
     "data": {
      "image/png": "[encoded data removed]",
      "text/plain": [
       "<matplotlib.figure.Figure at 0x115be1860>"
      ]
     },
     "metadata": {},
     "output_type": "display_data"
    }
   ],
   "source": [
    "plt.figure(figsize=(15, 4))\n",
    "plt.rcParams.update({'font.size': 15})\n",
    "\n",
    "plt.subplot(1,2,1)\n",
    "plt.hist(emp_norm['salary'],10,edgecolor='black')\n",
    "plt.title('Rescaled Salary')\n",
    "plt.xlabel('scaled Salary')\n",
    "plt.ylabel('# of Observations')\n",
    "\n",
    "plt.subplot(1,2,2)\n",
    "plt.hist(emp_norm['seniority'],10,edgecolor='black')\n",
    "plt.title('Rescaled Senority')\n",
    "plt.xlabel('scaled Senority')\n",
    "plt.ylabel('# of Observations')"
   ]
  },
  {
   "cell_type": "markdown",
   "metadata": {},
   "source": [
    "### Plotting orignal salary and senority variables"
   ]
  },
  {
   "cell_type": "code",
   "execution_count": 54,
   "metadata": {},
   "outputs": [
    {
     "data": {
      "text/plain": [
       "<matplotlib.text.Text at 0x1159d3c88>"
      ]
     },
     "execution_count": 54,
     "metadata": {},
     "output_type": "execute_result"
    },
    {
     "data": {
      "image/png": "[encoded data removed]",
      "text/plain": [
       "<matplotlib.figure.Figure at 0x11739fa20>"
      ]
     },
     "metadata": {},
     "output_type": "display_data"
    }
   ],
   "source": [
    "plt.figure(figsize=(15, 4))\n",
    "plt.rcParams.update({'font.size': 15})\n",
    "\n",
    "plt.subplot(1,2,1)\n",
    "plt.hist(df['salary'],10,color='lightblue',edgecolor='black')\n",
    "plt.title('Rescaled Salary')\n",
    "plt.xlabel('scaled Salary')\n",
    "plt.ylabel('# of Observations')\n",
    "\n",
    "plt.subplot(1,2,2)\n",
    "plt.hist(df['seniority'],10,color='lightblue',edgecolor='black')\n",
    "plt.title('Rescaled Senority')\n",
    "plt.xlabel('scaled Senority')\n",
    "plt.ylabel('# of Observations')"
   ]
  },
  {
   "cell_type": "markdown",
   "metadata": {},
   "source": [
    "### How do times x salary/senority engineered features look?"
   ]
  },
  {
   "cell_type": "code",
   "execution_count": 55,
   "metadata": {},
   "outputs": [
    {
     "data": {
      "text/plain": [
       "<matplotlib.text.Text at 0x1159d45f8>"
      ]
     },
     "execution_count": 55,
     "metadata": {},
     "output_type": "execute_result"
    },
    {
     "data": {
      "image/png": "[encoded data removed]",
      "text/plain": [
       "<matplotlib.figure.Figure at 0x115c2aeb8>"
      ]
     },
     "metadata": {},
     "output_type": "display_data"
    }
   ],
   "source": [
    "plt.figure(figsize=(20, 4))\n",
    "plt.rcParams.update({'font.size': 12})\n",
    "\n",
    "plt.subplot(1,3,1)\n",
    "plt.hist(emp_norm['Time_Sal'],10,color='lightgreen',edgecolor='black')\n",
    "plt.title('Time x Salary Distribution')\n",
    "plt.xlabel('Time x Salary')\n",
    "plt.ylabel('# of Observations')\n",
    "\n",
    "plt.subplot(1,3,2)\n",
    "plt.hist(emp_norm['Time_Sen'],10,color='lightgreen',edgecolor='black')\n",
    "plt.title('Time x Senority Distribution')\n",
    "plt.xlabel('Time x Senority')\n",
    "plt.ylabel('# of Observations')\n",
    "\n",
    "plt.subplot(1,3,3)\n",
    "plt.hist(emp_norm['Sal_Sen'],10,color='lightgreen',edgecolor='black')\n",
    "plt.title('Salary x Senority Distribution')\n",
    "plt.xlabel('Salary x Senority')\n",
    "plt.ylabel('# of Observations')"
   ]
  },
  {
   "cell_type": "markdown",
   "metadata": {},
   "source": [
    "## Cox proportional hazzard model"
   ]
  },
  {
   "cell_type": "code",
   "execution_count": 56,
   "metadata": {},
   "outputs": [
    {
     "data": {
      "text/html": [
       "<div>\n",
       "<style>\n",
       "    .dataframe thead tr:only-child th {\n",
       "        text-align: right;\n",
       "    }\n",
       "\n",
       "    .dataframe thead th {\n",
       "        text-align: left;\n",
       "    }\n",
       "\n",
       "    .dataframe tbody tr th {\n",
       "        vertical-align: top;\n",
       "    }\n",
       "</style>\n",
       "<table border=\"1\" class=\"dataframe\">\n",
       "  <thead>\n",
       "    <tr style=\"text-align: right;\">\n",
       "      <th></th>\n",
       "      <th>seniority</th>\n",
       "      <th>salary</th>\n",
       "      <th>quit_yn</th>\n",
       "      <th>end_date</th>\n",
       "      <th>JOIN_DATE</th>\n",
       "      <th>QUIT_DATE</th>\n",
       "      <th>END_DATE</th>\n",
       "      <th>Duration</th>\n",
       "      <th>Survive</th>\n",
       "      <th>Times</th>\n",
       "      <th>...</th>\n",
       "      <th>days</th>\n",
       "      <th>customer_service</th>\n",
       "      <th>marketing</th>\n",
       "      <th>data_science</th>\n",
       "      <th>engineer</th>\n",
       "      <th>sales</th>\n",
       "      <th>design</th>\n",
       "      <th>Time_Sal</th>\n",
       "      <th>Time_Sen</th>\n",
       "      <th>Sal_Sen</th>\n",
       "    </tr>\n",
       "  </thead>\n",
       "  <tbody>\n",
       "    <tr>\n",
       "      <th>0</th>\n",
       "      <td>0.964286</td>\n",
       "      <td>0.184143</td>\n",
       "      <td>1</td>\n",
       "      <td>10/30/15</td>\n",
       "      <td>2014-03-24</td>\n",
       "      <td>2015-10-30</td>\n",
       "      <td>2015-10-30</td>\n",
       "      <td>585 days</td>\n",
       "      <td>True</td>\n",
       "      <td>0.328072</td>\n",
       "      <td>...</td>\n",
       "      <td>585.0</td>\n",
       "      <td>1</td>\n",
       "      <td>0</td>\n",
       "      <td>0</td>\n",
       "      <td>0</td>\n",
       "      <td>0</td>\n",
       "      <td>0</td>\n",
       "      <td>0.060412</td>\n",
       "      <td>0.316355</td>\n",
       "      <td>0.177567</td>\n",
       "    </tr>\n",
       "    <tr>\n",
       "      <th>1</th>\n",
       "      <td>0.678571</td>\n",
       "      <td>0.424552</td>\n",
       "      <td>1</td>\n",
       "      <td>4/4/14</td>\n",
       "      <td>2013-04-29</td>\n",
       "      <td>2014-04-04</td>\n",
       "      <td>2014-04-04</td>\n",
       "      <td>340 days</td>\n",
       "      <td>True</td>\n",
       "      <td>0.189966</td>\n",
       "      <td>...</td>\n",
       "      <td>340.0</td>\n",
       "      <td>0</td>\n",
       "      <td>1</td>\n",
       "      <td>0</td>\n",
       "      <td>0</td>\n",
       "      <td>0</td>\n",
       "      <td>0</td>\n",
       "      <td>0.080651</td>\n",
       "      <td>0.128906</td>\n",
       "      <td>0.288089</td>\n",
       "    </tr>\n",
       "    <tr>\n",
       "      <th>2</th>\n",
       "      <td>0.464286</td>\n",
       "      <td>0.214834</td>\n",
       "      <td>0</td>\n",
       "      <td>12/13/15</td>\n",
       "      <td>2014-10-13</td>\n",
       "      <td>NaT</td>\n",
       "      <td>2015-12-13</td>\n",
       "      <td>426 days</td>\n",
       "      <td>False</td>\n",
       "      <td>0.238444</td>\n",
       "      <td>...</td>\n",
       "      <td>426.0</td>\n",
       "      <td>0</td>\n",
       "      <td>1</td>\n",
       "      <td>0</td>\n",
       "      <td>0</td>\n",
       "      <td>0</td>\n",
       "      <td>0</td>\n",
       "      <td>0.051226</td>\n",
       "      <td>0.110706</td>\n",
       "      <td>0.099744</td>\n",
       "    </tr>\n",
       "    <tr>\n",
       "      <th>3</th>\n",
       "      <td>0.678571</td>\n",
       "      <td>0.250639</td>\n",
       "      <td>1</td>\n",
       "      <td>6/7/13</td>\n",
       "      <td>2012-05-14</td>\n",
       "      <td>2013-06-07</td>\n",
       "      <td>2013-06-07</td>\n",
       "      <td>389 days</td>\n",
       "      <td>True</td>\n",
       "      <td>0.217587</td>\n",
       "      <td>...</td>\n",
       "      <td>389.0</td>\n",
       "      <td>1</td>\n",
       "      <td>0</td>\n",
       "      <td>0</td>\n",
       "      <td>0</td>\n",
       "      <td>0</td>\n",
       "      <td>0</td>\n",
       "      <td>0.054536</td>\n",
       "      <td>0.147649</td>\n",
       "      <td>0.170077</td>\n",
       "    </tr>\n",
       "    <tr>\n",
       "      <th>4</th>\n",
       "      <td>0.785714</td>\n",
       "      <td>0.662404</td>\n",
       "      <td>1</td>\n",
       "      <td>8/22/14</td>\n",
       "      <td>2011-10-17</td>\n",
       "      <td>2014-08-22</td>\n",
       "      <td>2014-08-22</td>\n",
       "      <td>1040 days</td>\n",
       "      <td>True</td>\n",
       "      <td>0.584555</td>\n",
       "      <td>...</td>\n",
       "      <td>1040.0</td>\n",
       "      <td>0</td>\n",
       "      <td>0</td>\n",
       "      <td>1</td>\n",
       "      <td>0</td>\n",
       "      <td>0</td>\n",
       "      <td>0</td>\n",
       "      <td>0.387211</td>\n",
       "      <td>0.459293</td>\n",
       "      <td>0.520460</td>\n",
       "    </tr>\n",
       "  </tbody>\n",
       "</table>\n",
       "<p>5 rows × 21 columns</p>\n",
       "</div>"
      ],
      "text/plain": [
       "   seniority    salary  quit_yn  end_date  JOIN_DATE  QUIT_DATE   END_DATE  \\\n",
       "0   0.964286  0.184143        1  10/30/15 2014-03-24 2015-10-30 2015-10-30   \n",
       "1   0.678571  0.424552        1    4/4/14 2013-04-29 2014-04-04 2014-04-04   \n",
       "2   0.464286  0.214834        0  12/13/15 2014-10-13        NaT 2015-12-13   \n",
       "3   0.678571  0.250639        1    6/7/13 2012-05-14 2013-06-07 2013-06-07   \n",
       "4   0.785714  0.662404        1   8/22/14 2011-10-17 2014-08-22 2014-08-22   \n",
       "\n",
       "   Duration  Survive     Times    ...       days  customer_service  marketing  \\\n",
       "0  585 days     True  0.328072    ...      585.0                 1          0   \n",
       "1  340 days     True  0.189966    ...      340.0                 0          1   \n",
       "2  426 days    False  0.238444    ...      426.0                 0          1   \n",
       "3  389 days     True  0.217587    ...      389.0                 1          0   \n",
       "4 1040 days     True  0.584555    ...     1040.0                 0          0   \n",
       "\n",
       "   data_science  engineer  sales  design  Time_Sal  Time_Sen   Sal_Sen  \n",
       "0             0         0      0       0  0.060412  0.316355  0.177567  \n",
       "1             0         0      0       0  0.080651  0.128906  0.288089  \n",
       "2             0         0      0       0  0.051226  0.110706  0.099744  \n",
       "3             0         0      0       0  0.054536  0.147649  0.170077  \n",
       "4             1         0      0       0  0.387211  0.459293  0.520460  \n",
       "\n",
       "[5 rows x 21 columns]"
      ]
     },
     "execution_count": 56,
     "metadata": {},
     "output_type": "execute_result"
    }
   ],
   "source": [
    "emp_norm.head()"
   ]
  },
  {
   "cell_type": "code",
   "execution_count": 57,
   "metadata": {},
   "outputs": [],
   "source": [
    "#emp_norm['Times'] = emp_norm['Times'].astype('int')\n",
    "#emp_norm.head()"
   ]
  },
  {
   "cell_type": "code",
   "execution_count": 58,
   "metadata": {},
   "outputs": [
    {
     "data": {
      "text/plain": [
       "Index(['seniority', 'salary', 'quit_yn', 'end_date', 'JOIN_DATE', 'QUIT_DATE',\n",
       "       'END_DATE', 'Duration', 'Survive', 'Times', 'quit', 'days',\n",
       "       'customer_service', 'marketing', 'data_science', 'engineer', 'sales',\n",
       "       'design', 'Time_Sal', 'Time_Sen', 'Sal_Sen'],\n",
       "      dtype='object')"
      ]
     },
     "execution_count": 58,
     "metadata": {},
     "output_type": "execute_result"
    }
   ],
   "source": [
    "emp_norm.columns"
   ]
  },
  {
   "cell_type": "code",
   "execution_count": 59,
   "metadata": {},
   "outputs": [
    {
     "data": {
      "text/html": [
       "<div>\n",
       "<style>\n",
       "    .dataframe thead tr:only-child th {\n",
       "        text-align: right;\n",
       "    }\n",
       "\n",
       "    .dataframe thead th {\n",
       "        text-align: left;\n",
       "    }\n",
       "\n",
       "    .dataframe tbody tr th {\n",
       "        vertical-align: top;\n",
       "    }\n",
       "</style>\n",
       "<table border=\"1\" class=\"dataframe\">\n",
       "  <thead>\n",
       "    <tr style=\"text-align: right;\">\n",
       "      <th></th>\n",
       "      <th>seniority</th>\n",
       "      <th>salary</th>\n",
       "      <th>Times</th>\n",
       "      <th>quit</th>\n",
       "      <th>customer_service</th>\n",
       "      <th>marketing</th>\n",
       "      <th>data_science</th>\n",
       "      <th>engineer</th>\n",
       "      <th>sales</th>\n",
       "      <th>design</th>\n",
       "      <th>Time_Sal</th>\n",
       "      <th>Time_Sen</th>\n",
       "      <th>Sal_Sen</th>\n",
       "    </tr>\n",
       "  </thead>\n",
       "  <tbody>\n",
       "    <tr>\n",
       "      <th>0</th>\n",
       "      <td>0.964286</td>\n",
       "      <td>0.184143</td>\n",
       "      <td>0.328072</td>\n",
       "      <td>1</td>\n",
       "      <td>1</td>\n",
       "      <td>0</td>\n",
       "      <td>0</td>\n",
       "      <td>0</td>\n",
       "      <td>0</td>\n",
       "      <td>0</td>\n",
       "      <td>0.060412</td>\n",
       "      <td>0.316355</td>\n",
       "      <td>0.177567</td>\n",
       "    </tr>\n",
       "    <tr>\n",
       "      <th>1</th>\n",
       "      <td>0.678571</td>\n",
       "      <td>0.424552</td>\n",
       "      <td>0.189966</td>\n",
       "      <td>1</td>\n",
       "      <td>0</td>\n",
       "      <td>1</td>\n",
       "      <td>0</td>\n",
       "      <td>0</td>\n",
       "      <td>0</td>\n",
       "      <td>0</td>\n",
       "      <td>0.080651</td>\n",
       "      <td>0.128906</td>\n",
       "      <td>0.288089</td>\n",
       "    </tr>\n",
       "    <tr>\n",
       "      <th>2</th>\n",
       "      <td>0.464286</td>\n",
       "      <td>0.214834</td>\n",
       "      <td>0.238444</td>\n",
       "      <td>0</td>\n",
       "      <td>0</td>\n",
       "      <td>1</td>\n",
       "      <td>0</td>\n",
       "      <td>0</td>\n",
       "      <td>0</td>\n",
       "      <td>0</td>\n",
       "      <td>0.051226</td>\n",
       "      <td>0.110706</td>\n",
       "      <td>0.099744</td>\n",
       "    </tr>\n",
       "  </tbody>\n",
       "</table>\n",
       "</div>"
      ],
      "text/plain": [
       "   seniority    salary     Times  quit  customer_service  marketing  \\\n",
       "0   0.964286  0.184143  0.328072     1                 1          0   \n",
       "1   0.678571  0.424552  0.189966     1                 0          1   \n",
       "2   0.464286  0.214834  0.238444     0                 0          1   \n",
       "\n",
       "   data_science  engineer  sales  design  Time_Sal  Time_Sen   Sal_Sen  \n",
       "0             0         0      0       0  0.060412  0.316355  0.177567  \n",
       "1             0         0      0       0  0.080651  0.128906  0.288089  \n",
       "2             0         0      0       0  0.051226  0.110706  0.099744  "
      ]
     },
     "execution_count": 59,
     "metadata": {},
     "output_type": "execute_result"
    }
   ],
   "source": [
    "emp_norm = emp_norm.drop(['quit_yn','end_date', 'JOIN_DATE', 'QUIT_DATE',\n",
    "       'END_DATE', 'Duration', 'Survive','days'],axis=1)\n",
    "emp_norm.head(3)"
   ]
  },
  {
   "cell_type": "code",
   "execution_count": 60,
   "metadata": {},
   "outputs": [
    {
     "data": {
      "text/plain": [
       "seniority           0\n",
       "salary              0\n",
       "Times               0\n",
       "quit                0\n",
       "customer_service    0\n",
       "marketing           0\n",
       "data_science        0\n",
       "engineer            0\n",
       "sales               0\n",
       "design              0\n",
       "Time_Sal            0\n",
       "Time_Sen            0\n",
       "Sal_Sen             0\n",
       "dtype: int64"
      ]
     },
     "execution_count": 60,
     "metadata": {},
     "output_type": "execute_result"
    }
   ],
   "source": [
    "# Checking for any missing values\n",
    "emp_norm.isnull().sum()"
   ]
  },
  {
   "cell_type": "markdown",
   "metadata": {},
   "source": [
    "### Cox Proportional Hazard Model - with Time interaction variables and scaled data"
   ]
  },
  {
   "cell_type": "code",
   "execution_count": 61,
   "metadata": {},
   "outputs": [
    {
     "name": "stdout",
     "output_type": "stream",
     "text": [
      "n=24700, number of events=13508\n",
      "\n",
      "                     coef  exp(coef)    se(coef)        z      p    lower 0.95   upper 0.95     \n",
      "seniority          6.1746   480.3987      0.1025  60.2507 0.0000        5.9737       6.3755  ***\n",
      "salary             9.6850 16075.0847      0.1900  50.9717 0.0000        9.3125      10.0575  ***\n",
      "customer_service  -5.9569     0.0026 840067.4958  -0.0000 1.0000 -1646870.0055 1646858.0917     \n",
      "marketing         -5.8655     0.0028 840067.4958  -0.0000 1.0000 -1646869.9141 1646858.1831     \n",
      "data_science      -5.9573     0.0026 840067.4958  -0.0000 1.0000 -1646870.0059 1646858.0913     \n",
      "engineer          -5.9462     0.0026 840067.4958  -0.0000 1.0000 -1646869.9948 1646858.1024     \n",
      "sales             -5.8233     0.0030 840067.4958  -0.0000 1.0000 -1646869.8719 1646858.2253     \n",
      "design            -5.9030     0.0027 840067.4958  -0.0000 1.0000 -1646869.9516 1646858.1455     \n",
      "Time_Sal         -14.3157     0.0000      0.3389 -42.2407 0.0000      -14.9800     -13.6513  ***\n",
      "Time_Sen          -9.5028     0.0001      0.2118 -44.8624 0.0000       -9.9181      -9.0876  ***\n",
      "Sal_Sen           -7.7174     0.0004      0.2022 -38.1591 0.0000       -8.1139      -7.3210  ***\n",
      "---\n",
      "Signif. codes:  0 '***' 0.001 '**' 0.01 '*' 0.05 '.' 0.1 ' ' 1 \n",
      "\n",
      "Concordance = 0.840\n"
     ]
    }
   ],
   "source": [
    "from lifelines import CoxPHFitter\n",
    "\n",
    "cph = CoxPHFitter()\n",
    "cph.fit(emp_norm, duration_col='Times', event_col='quit')\n",
    "\n",
    "cph.print_summary()  # access the results using cph.summary"
   ]
  },
  {
   "cell_type": "markdown",
   "metadata": {},
   "source": [
    "### Cox Proportional Hazard Model - without Time interaction variables"
   ]
  },
  {
   "cell_type": "code",
   "execution_count": 62,
   "metadata": {},
   "outputs": [
    {
     "data": {
      "text/html": [
       "<div>\n",
       "<style>\n",
       "    .dataframe thead tr:only-child th {\n",
       "        text-align: right;\n",
       "    }\n",
       "\n",
       "    .dataframe thead th {\n",
       "        text-align: left;\n",
       "    }\n",
       "\n",
       "    .dataframe tbody tr th {\n",
       "        vertical-align: top;\n",
       "    }\n",
       "</style>\n",
       "<table border=\"1\" class=\"dataframe\">\n",
       "  <thead>\n",
       "    <tr style=\"text-align: right;\">\n",
       "      <th></th>\n",
       "      <th>seniority</th>\n",
       "      <th>salary</th>\n",
       "      <th>Times</th>\n",
       "      <th>quit</th>\n",
       "      <th>customer_service</th>\n",
       "      <th>marketing</th>\n",
       "      <th>data_science</th>\n",
       "      <th>engineer</th>\n",
       "      <th>sales</th>\n",
       "      <th>design</th>\n",
       "    </tr>\n",
       "  </thead>\n",
       "  <tbody>\n",
       "    <tr>\n",
       "      <th>0</th>\n",
       "      <td>0.964286</td>\n",
       "      <td>0.184143</td>\n",
       "      <td>0.328072</td>\n",
       "      <td>1</td>\n",
       "      <td>1</td>\n",
       "      <td>0</td>\n",
       "      <td>0</td>\n",
       "      <td>0</td>\n",
       "      <td>0</td>\n",
       "      <td>0</td>\n",
       "    </tr>\n",
       "    <tr>\n",
       "      <th>1</th>\n",
       "      <td>0.678571</td>\n",
       "      <td>0.424552</td>\n",
       "      <td>0.189966</td>\n",
       "      <td>1</td>\n",
       "      <td>0</td>\n",
       "      <td>1</td>\n",
       "      <td>0</td>\n",
       "      <td>0</td>\n",
       "      <td>0</td>\n",
       "      <td>0</td>\n",
       "    </tr>\n",
       "  </tbody>\n",
       "</table>\n",
       "</div>"
      ],
      "text/plain": [
       "   seniority    salary     Times  quit  customer_service  marketing  \\\n",
       "0   0.964286  0.184143  0.328072     1                 1          0   \n",
       "1   0.678571  0.424552  0.189966     1                 0          1   \n",
       "\n",
       "   data_science  engineer  sales  design  \n",
       "0             0         0      0       0  \n",
       "1             0         0      0       0  "
      ]
     },
     "execution_count": 62,
     "metadata": {},
     "output_type": "execute_result"
    }
   ],
   "source": [
    "emp_norm1 = emp_norm.drop(['Time_Sal','Time_Sen','Sal_Sen'],axis=1)\n",
    "emp_norm1.head(2)"
   ]
  },
  {
   "cell_type": "code",
   "execution_count": 95,
   "metadata": {},
   "outputs": [
    {
     "name": "stdout",
     "output_type": "stream",
     "text": [
      "n=24700, number of events=13508\n",
      "\n",
      "                    coef  exp(coef)    se(coef)       z      p   lower 0.95  upper 0.95     \n",
      "seniority         0.2990     1.3486      0.0460  6.5076 0.0000       0.2090      0.3891  ***\n",
      "salary           -0.7340     0.4800      0.0922 -7.9574 0.0000      -0.9148     -0.5532  ***\n",
      "customer_service -3.4800     0.0308 260968.3055 -0.0000 1.0000 -511604.4195 511597.4596     \n",
      "marketing        -3.3642     0.0346 260968.3055 -0.0000 1.0000 -511604.3038 511597.5753     \n",
      "data_science     -3.4198     0.0327 260968.3055 -0.0000 1.0000 -511604.3594 511597.5197     \n",
      "engineer         -3.4471     0.0318 260968.3055 -0.0000 1.0000 -511604.3867 511597.4924     \n",
      "sales            -3.3179     0.0362 260968.3055 -0.0000 1.0000 -511604.2574 511597.6217     \n",
      "design           -3.3885     0.0338 260968.3055 -0.0000 1.0000 -511604.3280 511597.5511     \n",
      "---\n",
      "Signif. codes:  0 '***' 0.001 '**' 0.01 '*' 0.05 '.' 0.1 ' ' 1 \n",
      "\n",
      "Concordance = 0.534\n"
     ]
    }
   ],
   "source": [
    "cph1 = CoxPHFitter()\n",
    "cph1.fit(emp_norm1, duration_col='Times', event_col='quit')\n",
    "\n",
    "cph1.print_summary()  # access the results using cph.summary"
   ]
  },
  {
   "cell_type": "markdown",
   "metadata": {},
   "source": [
    "### Note:\n",
    "Adding the interaction term variables increases the concordance rate quite a bit: 0.840 vs 0.534"
   ]
  },
  {
   "cell_type": "markdown",
   "metadata": {},
   "source": [
    "## One hot encoding the company varibale"
   ]
  },
  {
   "cell_type": "code",
   "execution_count": 73,
   "metadata": {},
   "outputs": [
    {
     "data": {
      "text/html": [
       "<div>\n",
       "<style>\n",
       "    .dataframe thead tr:only-child th {\n",
       "        text-align: right;\n",
       "    }\n",
       "\n",
       "    .dataframe thead th {\n",
       "        text-align: left;\n",
       "    }\n",
       "\n",
       "    .dataframe tbody tr th {\n",
       "        vertical-align: top;\n",
       "    }\n",
       "</style>\n",
       "<table border=\"1\" class=\"dataframe\">\n",
       "  <thead>\n",
       "    <tr style=\"text-align: right;\">\n",
       "      <th></th>\n",
       "      <th>com_1</th>\n",
       "      <th>com_2</th>\n",
       "      <th>com_3</th>\n",
       "      <th>com_4</th>\n",
       "      <th>com_5</th>\n",
       "      <th>com_6</th>\n",
       "      <th>com_7</th>\n",
       "      <th>com_8</th>\n",
       "      <th>com_9</th>\n",
       "      <th>com_10</th>\n",
       "      <th>com_11</th>\n",
       "      <th>com_12</th>\n",
       "    </tr>\n",
       "  </thead>\n",
       "  <tbody>\n",
       "    <tr>\n",
       "      <th>0</th>\n",
       "      <td>0</td>\n",
       "      <td>0</td>\n",
       "      <td>0</td>\n",
       "      <td>0</td>\n",
       "      <td>0</td>\n",
       "      <td>0</td>\n",
       "      <td>1</td>\n",
       "      <td>0</td>\n",
       "      <td>0</td>\n",
       "      <td>0</td>\n",
       "      <td>0</td>\n",
       "      <td>0</td>\n",
       "    </tr>\n",
       "    <tr>\n",
       "      <th>1</th>\n",
       "      <td>0</td>\n",
       "      <td>0</td>\n",
       "      <td>0</td>\n",
       "      <td>0</td>\n",
       "      <td>0</td>\n",
       "      <td>0</td>\n",
       "      <td>1</td>\n",
       "      <td>0</td>\n",
       "      <td>0</td>\n",
       "      <td>0</td>\n",
       "      <td>0</td>\n",
       "      <td>0</td>\n",
       "    </tr>\n",
       "    <tr>\n",
       "      <th>2</th>\n",
       "      <td>0</td>\n",
       "      <td>0</td>\n",
       "      <td>0</td>\n",
       "      <td>1</td>\n",
       "      <td>0</td>\n",
       "      <td>0</td>\n",
       "      <td>0</td>\n",
       "      <td>0</td>\n",
       "      <td>0</td>\n",
       "      <td>0</td>\n",
       "      <td>0</td>\n",
       "      <td>0</td>\n",
       "    </tr>\n",
       "    <tr>\n",
       "      <th>3</th>\n",
       "      <td>0</td>\n",
       "      <td>0</td>\n",
       "      <td>0</td>\n",
       "      <td>0</td>\n",
       "      <td>0</td>\n",
       "      <td>0</td>\n",
       "      <td>1</td>\n",
       "      <td>0</td>\n",
       "      <td>0</td>\n",
       "      <td>0</td>\n",
       "      <td>0</td>\n",
       "      <td>0</td>\n",
       "    </tr>\n",
       "    <tr>\n",
       "      <th>4</th>\n",
       "      <td>0</td>\n",
       "      <td>1</td>\n",
       "      <td>0</td>\n",
       "      <td>0</td>\n",
       "      <td>0</td>\n",
       "      <td>0</td>\n",
       "      <td>0</td>\n",
       "      <td>0</td>\n",
       "      <td>0</td>\n",
       "      <td>0</td>\n",
       "      <td>0</td>\n",
       "      <td>0</td>\n",
       "    </tr>\n",
       "  </tbody>\n",
       "</table>\n",
       "</div>"
      ],
      "text/plain": [
       "   com_1  com_2  com_3  com_4  com_5  com_6  com_7  com_8  com_9  com_10  \\\n",
       "0      0      0      0      0      0      0      1      0      0       0   \n",
       "1      0      0      0      0      0      0      1      0      0       0   \n",
       "2      0      0      0      1      0      0      0      0      0       0   \n",
       "3      0      0      0      0      0      0      1      0      0       0   \n",
       "4      0      1      0      0      0      0      0      0      0       0   \n",
       "\n",
       "   com_11  com_12  \n",
       "0       0       0  \n",
       "1       0       0  \n",
       "2       0       0  \n",
       "3       0       0  \n",
       "4       0       0  "
      ]
     },
     "execution_count": 73,
     "metadata": {},
     "output_type": "execute_result"
    }
   ],
   "source": [
    "company_ids = pd.get_dummies(df['company_id'],prefix = 'com')\n",
    "company_ids.head(5)"
   ]
  },
  {
   "cell_type": "markdown",
   "metadata": {},
   "source": [
    "### Getting company ID's on emp_norm and emp_norm1"
   ]
  },
  {
   "cell_type": "code",
   "execution_count": 74,
   "metadata": {},
   "outputs": [
    {
     "data": {
      "text/html": [
       "<div>\n",
       "<style>\n",
       "    .dataframe thead tr:only-child th {\n",
       "        text-align: right;\n",
       "    }\n",
       "\n",
       "    .dataframe thead th {\n",
       "        text-align: left;\n",
       "    }\n",
       "\n",
       "    .dataframe tbody tr th {\n",
       "        vertical-align: top;\n",
       "    }\n",
       "</style>\n",
       "<table border=\"1\" class=\"dataframe\">\n",
       "  <thead>\n",
       "    <tr style=\"text-align: right;\">\n",
       "      <th></th>\n",
       "      <th>seniority</th>\n",
       "      <th>salary</th>\n",
       "      <th>Times</th>\n",
       "      <th>quit</th>\n",
       "      <th>customer_service</th>\n",
       "      <th>marketing</th>\n",
       "      <th>data_science</th>\n",
       "      <th>engineer</th>\n",
       "      <th>sales</th>\n",
       "      <th>design</th>\n",
       "      <th>...</th>\n",
       "      <th>comp_3</th>\n",
       "      <th>comp_4</th>\n",
       "      <th>comp_5</th>\n",
       "      <th>comp_6</th>\n",
       "      <th>comp_7</th>\n",
       "      <th>comp_8</th>\n",
       "      <th>comp_9</th>\n",
       "      <th>comp_10</th>\n",
       "      <th>comp_11</th>\n",
       "      <th>comp_12</th>\n",
       "    </tr>\n",
       "  </thead>\n",
       "  <tbody>\n",
       "    <tr>\n",
       "      <th>0</th>\n",
       "      <td>0.964286</td>\n",
       "      <td>0.184143</td>\n",
       "      <td>0.328072</td>\n",
       "      <td>1</td>\n",
       "      <td>1</td>\n",
       "      <td>0</td>\n",
       "      <td>0</td>\n",
       "      <td>0</td>\n",
       "      <td>0</td>\n",
       "      <td>0</td>\n",
       "      <td>...</td>\n",
       "      <td>0</td>\n",
       "      <td>0</td>\n",
       "      <td>0</td>\n",
       "      <td>0</td>\n",
       "      <td>1</td>\n",
       "      <td>0</td>\n",
       "      <td>0</td>\n",
       "      <td>0</td>\n",
       "      <td>0</td>\n",
       "      <td>0</td>\n",
       "    </tr>\n",
       "    <tr>\n",
       "      <th>1</th>\n",
       "      <td>0.678571</td>\n",
       "      <td>0.424552</td>\n",
       "      <td>0.189966</td>\n",
       "      <td>1</td>\n",
       "      <td>0</td>\n",
       "      <td>1</td>\n",
       "      <td>0</td>\n",
       "      <td>0</td>\n",
       "      <td>0</td>\n",
       "      <td>0</td>\n",
       "      <td>...</td>\n",
       "      <td>0</td>\n",
       "      <td>0</td>\n",
       "      <td>0</td>\n",
       "      <td>0</td>\n",
       "      <td>1</td>\n",
       "      <td>0</td>\n",
       "      <td>0</td>\n",
       "      <td>0</td>\n",
       "      <td>0</td>\n",
       "      <td>0</td>\n",
       "    </tr>\n",
       "    <tr>\n",
       "      <th>2</th>\n",
       "      <td>0.464286</td>\n",
       "      <td>0.214834</td>\n",
       "      <td>0.238444</td>\n",
       "      <td>0</td>\n",
       "      <td>0</td>\n",
       "      <td>1</td>\n",
       "      <td>0</td>\n",
       "      <td>0</td>\n",
       "      <td>0</td>\n",
       "      <td>0</td>\n",
       "      <td>...</td>\n",
       "      <td>0</td>\n",
       "      <td>1</td>\n",
       "      <td>0</td>\n",
       "      <td>0</td>\n",
       "      <td>0</td>\n",
       "      <td>0</td>\n",
       "      <td>0</td>\n",
       "      <td>0</td>\n",
       "      <td>0</td>\n",
       "      <td>0</td>\n",
       "    </tr>\n",
       "  </tbody>\n",
       "</table>\n",
       "<p>3 rows × 25 columns</p>\n",
       "</div>"
      ],
      "text/plain": [
       "   seniority    salary     Times  quit  customer_service  marketing  \\\n",
       "0   0.964286  0.184143  0.328072     1                 1          0   \n",
       "1   0.678571  0.424552  0.189966     1                 0          1   \n",
       "2   0.464286  0.214834  0.238444     0                 0          1   \n",
       "\n",
       "   data_science  engineer  sales  design   ...     comp_3  comp_4  comp_5  \\\n",
       "0             0         0      0       0   ...          0       0       0   \n",
       "1             0         0      0       0   ...          0       0       0   \n",
       "2             0         0      0       0   ...          0       1       0   \n",
       "\n",
       "   comp_6  comp_7  comp_8  comp_9  comp_10  comp_11  comp_12  \n",
       "0       0       1       0       0        0        0        0  \n",
       "1       0       1       0       0        0        0        0  \n",
       "2       0       0       0       0        0        0        0  \n",
       "\n",
       "[3 rows x 25 columns]"
      ]
     },
     "execution_count": 74,
     "metadata": {},
     "output_type": "execute_result"
    }
   ],
   "source": [
    "# hack job of adding the company id one hot encoded data to data frame\n",
    "# = = = emp_norm\n",
    "emp_norm['comp_1'] = company_ids['com_1']\n",
    "emp_norm['comp_2'] = company_ids['com_2']\n",
    "emp_norm['comp_3'] = company_ids['com_3']\n",
    "emp_norm['comp_4'] = company_ids['com_4']\n",
    "emp_norm['comp_5'] = company_ids['com_5']\n",
    "emp_norm['comp_6'] = company_ids['com_6']\n",
    "emp_norm['comp_7'] = company_ids['com_7']\n",
    "emp_norm['comp_8'] = company_ids['com_8']\n",
    "emp_norm['comp_9'] = company_ids['com_9']\n",
    "emp_norm['comp_10'] = company_ids['com_10']\n",
    "emp_norm['comp_11'] = company_ids['com_11']\n",
    "emp_norm['comp_12'] = company_ids['com_12']\n",
    "\n",
    "# = = = emp_norm\n",
    "emp_norm1['comp_1'] = company_ids['com_1']\n",
    "emp_norm1['comp_2'] = company_ids['com_2']\n",
    "emp_norm1['comp_3'] = company_ids['com_3']\n",
    "emp_norm1['comp_4'] = company_ids['com_4']\n",
    "emp_norm1['comp_5'] = company_ids['com_5']\n",
    "emp_norm1['comp_6'] = company_ids['com_6']\n",
    "emp_norm1['comp_7'] = company_ids['com_7']\n",
    "emp_norm1['comp_8'] = company_ids['com_8']\n",
    "emp_norm1['comp_9'] = company_ids['com_9']\n",
    "emp_norm1['comp_10'] = company_ids['com_10']\n",
    "emp_norm1['comp_11'] = company_ids['com_11']\n",
    "emp_norm1['comp_12'] = company_ids['com_12']\n",
    "\n",
    "emp_norm.head(3)"
   ]
  },
  {
   "cell_type": "markdown",
   "metadata": {},
   "source": [
    "# Developing Machine Learning Models"
   ]
  },
  {
   "cell_type": "markdown",
   "metadata": {},
   "source": [
    "## Starting with all of the data"
   ]
  },
  {
   "cell_type": "code",
   "execution_count": 75,
   "metadata": {},
   "outputs": [],
   "source": [
    "# Data with interaction varibales\n",
    "all_data = emp_norm\n",
    "\n",
    "# Data without interaction varibales\n",
    "all_data1 = emp_norm1"
   ]
  },
  {
   "cell_type": "markdown",
   "metadata": {},
   "source": [
    "### What is the number of observations... this will influence splitting into train, val, and test sets"
   ]
  },
  {
   "cell_type": "code",
   "execution_count": 76,
   "metadata": {},
   "outputs": [
    {
     "name": "stdout",
     "output_type": "stream",
     "text": [
      "All Data with interaction variables: (24700, 25)\n",
      "Data without interation variables: (24700, 22)\n"
     ]
    }
   ],
   "source": [
    "print('All Data with interaction variables:',all_data.shape)\n",
    "print('Data without interation variables:',all_data1.shape)"
   ]
  },
  {
   "cell_type": "markdown",
   "metadata": {},
   "source": [
    "Let's set aside 1/3 of the data for the test set"
   ]
  },
  {
   "cell_type": "code",
   "execution_count": 77,
   "metadata": {},
   "outputs": [
    {
     "data": {
      "text/plain": [
       "7410.0"
      ]
     },
     "execution_count": 77,
     "metadata": {},
     "output_type": "execute_result"
    }
   ],
   "source": [
    "24700 * 0.3"
   ]
  },
  {
   "cell_type": "markdown",
   "metadata": {},
   "source": [
    "So, ~ 7410 of the observations will be test data"
   ]
  },
  {
   "cell_type": "markdown",
   "metadata": {},
   "source": [
    "## Define Feature Matrix and Target Vector with all of the data"
   ]
  },
  {
   "cell_type": "code",
   "execution_count": 78,
   "metadata": {},
   "outputs": [],
   "source": [
    "X = all_data.drop(['quit'],axis=1)\n",
    "y = all_data['quit']\n",
    "\n",
    "# Without interaction variables\n",
    "X1 = all_data1.drop(['quit'],axis=1)\n",
    "y1 = all_data1['quit']"
   ]
  },
  {
   "cell_type": "markdown",
   "metadata": {},
   "source": [
    "### Let's first get a 70-30 split of data - set the 30% aside as true test set"
   ]
  },
  {
   "cell_type": "code",
   "execution_count": 79,
   "metadata": {},
   "outputs": [],
   "source": [
    "from sklearn.model_selection import train_test_split\n",
    "\n",
    "# split the data with 70% in each set\n",
    "X_train_pre, X_test, y_train_pre, y_test = train_test_split(X, y, random_state=63,\n",
    "                                  train_size=0.7)\n",
    "\n",
    "# split the data with 70% in each set\n",
    "X1_train_pre, X1_test, y1_train_pre, y1_test = train_test_split(X1, y1, random_state=63,\n",
    "                                  train_size=0.7)"
   ]
  },
  {
   "cell_type": "markdown",
   "metadata": {},
   "source": [
    "### Checking the shapes"
   ]
  },
  {
   "cell_type": "code",
   "execution_count": 80,
   "metadata": {},
   "outputs": [
    {
     "name": "stdout",
     "output_type": "stream",
     "text": [
      "(17290, 24)\n",
      "(7410, 24)\n",
      "(17290,)\n",
      "(7410,)\n"
     ]
    }
   ],
   "source": [
    "print(X_train_pre.shape)\n",
    "print(X_test.shape)\n",
    "print(y_train_pre.shape)\n",
    "print(y_test.shape)"
   ]
  },
  {
   "cell_type": "markdown",
   "metadata": {},
   "source": [
    "### Now creating real training and development sets"
   ]
  },
  {
   "cell_type": "code",
   "execution_count": 81,
   "metadata": {},
   "outputs": [],
   "source": [
    "# split the data with 70% in each set\n",
    "X_train, X_dev, y_train, y_dev = train_test_split(X_train_pre, y_train_pre, random_state=27,\n",
    "                                  train_size=0.7)\n",
    "\n",
    "X1_train, X1_dev, y1_train, y1_dev = train_test_split(X1_train_pre, y1_train_pre, random_state=27,\n",
    "                                  train_size=0.7)"
   ]
  },
  {
   "cell_type": "code",
   "execution_count": 82,
   "metadata": {},
   "outputs": [
    {
     "name": "stdout",
     "output_type": "stream",
     "text": [
      "(12103, 24)\n",
      "(5187, 24)\n",
      "(12103,)\n",
      "(5187,)\n"
     ]
    }
   ],
   "source": [
    "print(X_train.shape)\n",
    "print(X_dev.shape)\n",
    "print(y_train.shape)\n",
    "print(y_dev.shape)"
   ]
  },
  {
   "cell_type": "markdown",
   "metadata": {},
   "source": [
    "### Now I have X_train, X_dev, X_test and y_train, y_dev and y_test ready to go"
   ]
  },
  {
   "cell_type": "markdown",
   "metadata": {},
   "source": [
    "# = = Model 1: Logistic Regression"
   ]
  },
  {
   "cell_type": "markdown",
   "metadata": {},
   "source": [
    "### Function defining Confusion Maxtri Plot"
   ]
  },
  {
   "cell_type": "code",
   "execution_count": 83,
   "metadata": {},
   "outputs": [],
   "source": [
    "def plot_confusion_matrix(cm, classes,\n",
    "                          normalize=False,\n",
    "                          title='Confusion matrix',\n",
    "                          cmap=plt.cm.Blues):\n",
    "    \"\"\"\n",
    "    This function prints and plots the confusion matrix.\n",
    "    Normalization can be applied by setting `normalize=True`.\n",
    "    \"\"\"\n",
    "    if normalize:\n",
    "        cm = cm.astype('float') / cm.sum(axis=1)[:, np.newaxis]\n",
    "        print(\"Normalized confusion matrix\")\n",
    "    else:\n",
    "        print('Confusion matrix, without normalization')\n",
    "\n",
    "    print(cm)\n",
    "\n",
    "    plt.imshow(cm, interpolation='nearest', cmap=cmap)\n",
    "    plt.title(title)\n",
    "    plt.colorbar()\n",
    "    tick_marks = np.arange(len(classes))\n",
    "    plt.xticks(tick_marks, classes, rotation=45)\n",
    "    plt.yticks(tick_marks, classes)\n",
    "\n",
    "    fmt = '.2f' if normalize else 'd'\n",
    "    thresh = cm.max() / 2.\n",
    "    for i, j in itertools.product(range(cm.shape[0]), range(cm.shape[1])):\n",
    "        plt.text(j, i, format(cm[i, j], fmt),\n",
    "                 horizontalalignment=\"center\",\n",
    "                 color=\"white\" if cm[i, j] > thresh else \"black\")\n",
    "\n",
    "    plt.tight_layout()\n",
    "    plt.ylabel('True label')\n",
    "    plt.xlabel('Predicted label')\n"
   ]
  },
  {
   "cell_type": "markdown",
   "metadata": {},
   "source": [
    "### Logistic Regression Model 1"
   ]
  },
  {
   "cell_type": "code",
   "execution_count": 84,
   "metadata": {},
   "outputs": [],
   "source": [
    "# Importing LogisticRegression from linear_models\n",
    "from sklearn.linear_model import LogisticRegression"
   ]
  },
  {
   "cell_type": "markdown",
   "metadata": {},
   "source": [
    "### Setting up and fitting the model to training data"
   ]
  },
  {
   "cell_type": "code",
   "execution_count": 85,
   "metadata": {},
   "outputs": [
    {
     "name": "stdout",
     "output_type": "stream",
     "text": [
      "Accuracy on training set: 0.616\n",
      "Accuracy on test set: 0.619\n"
     ]
    }
   ],
   "source": [
    "# Setting up the model\n",
    "log_reg = LogisticRegression(random_state=42)\n",
    "log_reg1 = LogisticRegression(random_state=42)\n",
    "\n",
    "# Fitting the model\n",
    "log_reg.fit(X_train, y_train)\n",
    "log_reg1.fit(X1_train, y1_train)\n",
    "\n",
    "print(\"Accuracy on training set: {:.3f}\".format(log_reg.score(X_train, y_train)))\n",
    "print(\"Accuracy on test set: {:.3f}\".format(log_reg.score(X_dev, y_dev)))"
   ]
  },
  {
   "cell_type": "markdown",
   "metadata": {},
   "source": [
    "### Without the interaction terms there is very little difference"
   ]
  },
  {
   "cell_type": "code",
   "execution_count": 86,
   "metadata": {},
   "outputs": [
    {
     "name": "stdout",
     "output_type": "stream",
     "text": [
      "Accuracy on training set: 0.612\n",
      "Accuracy on test set: 0.610\n"
     ]
    }
   ],
   "source": [
    "print(\"Accuracy on training set: {:.3f}\".format(log_reg1.score(X1_train, y1_train)))\n",
    "print(\"Accuracy on test set: {:.3f}\".format(log_reg1.score(X1_dev, y1_dev)))"
   ]
  },
  {
   "cell_type": "code",
   "execution_count": 87,
   "metadata": {},
   "outputs": [
    {
     "data": {
      "text/plain": [
       "array([ 0.60693642,  0.62262593,  0.61436829,  0.60033031,  0.60826446,\n",
       "        0.60991736,  0.6107438 ,  0.6       ,  0.62644628,  0.61373036])"
      ]
     },
     "execution_count": 87,
     "metadata": {},
     "output_type": "execute_result"
    }
   ],
   "source": [
    "from sklearn.model_selection import cross_val_score\n",
    "cv_scores = cross_val_score(log_reg, X_train, y_train, cv=10)\n",
    "cv_scores"
   ]
  },
  {
   "cell_type": "markdown",
   "metadata": {},
   "source": [
    "### 10 fold Cross Validation score"
   ]
  },
  {
   "cell_type": "code",
   "execution_count": 88,
   "metadata": {},
   "outputs": [
    {
     "data": {
      "text/plain": [
       "0.61133631978630532"
      ]
     },
     "execution_count": 88,
     "metadata": {},
     "output_type": "execute_result"
    }
   ],
   "source": [
    "cv_scores.mean()"
   ]
  },
  {
   "cell_type": "code",
   "execution_count": 89,
   "metadata": {},
   "outputs": [
    {
     "name": "stdout",
     "output_type": "stream",
     "text": [
      "Normalized confusion matrix\n",
      "[[ 0.37257439  0.62742561]\n",
      " [ 0.18200837  0.81799163]]\n"
     ]
    },
    {
     "data": {
      "image/png": "[encoded data removed]",
      "text/plain": [
       "<matplotlib.figure.Figure at 0x118818438>"
      ]
     },
     "metadata": {},
     "output_type": "display_data"
    }
   ],
   "source": [
    "# Getting y_score based on model predictions of X_dev\n",
    "y_score = y_score = log_reg.predict(X_dev)\n",
    "y1_score = y1_score = log_reg1.predict(X1_dev)\n",
    "\n",
    "\n",
    "import itertools\n",
    "\n",
    "from sklearn.metrics import confusion_matrix\n",
    "confusion_matrix(y_dev, y_score)\n",
    "con_mat = confusion_matrix(y_dev, y_score)\n",
    "\n",
    "#confusion_matrix(y1_dev, y1_score)\n",
    "con_mat1 = confusion_matrix(y1_dev, y1_score)\n",
    "\n",
    "# Plot non-normalized confusion matrix\n",
    "class_names = ['Leave','Stay']\n",
    "\n",
    "plt.figure()\n",
    "plot_confusion_matrix(con_mat,classes=class_names,\n",
    "                      normalize = True,\n",
    "                     title='Confusion matrix, with normalization')"
   ]
  },
  {
   "cell_type": "code",
   "execution_count": 90,
   "metadata": {},
   "outputs": [
    {
     "name": "stdout",
     "output_type": "stream",
     "text": [
      "Confusion matrix, without normalization\n",
      "[[ 864 1455]\n",
      " [ 522 2346]]\n"
     ]
    },
    {
     "data": {
      "image/png": "[encoded data removed]",
      "text/plain": [
       "<matplotlib.figure.Figure at 0x11b27ab00>"
      ]
     },
     "metadata": {},
     "output_type": "display_data"
    }
   ],
   "source": [
    "plt.figure()\n",
    "plot_confusion_matrix(con_mat,classes=class_names,\n",
    "                     title='Confusion matrix, without normalization')"
   ]
  },
  {
   "cell_type": "markdown",
   "metadata": {},
   "source": [
    "### Model evaluation with interaction terms"
   ]
  },
  {
   "cell_type": "markdown",
   "metadata": {},
   "source": [
    "### Precision and Recall"
   ]
  },
  {
   "cell_type": "code",
   "execution_count": 91,
   "metadata": {},
   "outputs": [
    {
     "name": "stdout",
     "output_type": "stream",
     "text": [
      "Precision: 0.617205998421\n",
      "Recall: 0.817991631799\n"
     ]
    }
   ],
   "source": [
    "from sklearn.metrics import precision_score\n",
    "from sklearn.metrics import recall_score\n",
    "\n",
    "print(\"Precision:\", precision_score(y_dev, y_score))\n",
    "print(\"Recall:\", recall_score(y_dev, y_score))"
   ]
  },
  {
   "cell_type": "markdown",
   "metadata": {},
   "source": [
    "### Average Precision and Recall"
   ]
  },
  {
   "cell_type": "code",
   "execution_count": 92,
   "metadata": {},
   "outputs": [
    {
     "name": "stdout",
     "output_type": "stream",
     "text": [
      "Average precision-recall score: 0.77\n"
     ]
    }
   ],
   "source": [
    "from sklearn.metrics import average_precision_score\n",
    "average_precision = average_precision_score(y_dev, y_score)\n",
    "\n",
    "print('Average precision-recall score: {0:0.2f}'.format(\n",
    "      average_precision))"
   ]
  },
  {
   "cell_type": "markdown",
   "metadata": {},
   "source": [
    "### F1 Score (geometric mean of P and R)"
   ]
  },
  {
   "cell_type": "code",
   "execution_count": 93,
   "metadata": {},
   "outputs": [
    {
     "name": "stdout",
     "output_type": "stream",
     "text": [
      "f1 score most frequent: 0.70\n"
     ]
    }
   ],
   "source": [
    "from sklearn.metrics import f1_score\n",
    "print(\"f1 score most frequent: {:.2f}\".format(\n",
    "    f1_score(y_dev, y_score)))"
   ]
  },
  {
   "cell_type": "markdown",
   "metadata": {},
   "source": [
    "### Model evaluation without interaction variables"
   ]
  },
  {
   "cell_type": "code",
   "execution_count": 94,
   "metadata": {},
   "outputs": [
    {
     "name": "stdout",
     "output_type": "stream",
     "text": [
      "Precision: 0.610328638498\n",
      "Recall: 0.81589958159\n"
     ]
    }
   ],
   "source": [
    "print(\"Precision:\", precision_score(y1_dev, y1_score))\n",
    "print(\"Recall:\", recall_score(y1_dev, y1_score))"
   ]
  },
  {
   "cell_type": "code",
   "execution_count": 95,
   "metadata": {},
   "outputs": [
    {
     "name": "stdout",
     "output_type": "stream",
     "text": [
      "Average precision-recall score: 0.76\n"
     ]
    }
   ],
   "source": [
    "average_precision1 = average_precision_score(y1_dev, y1_score)\n",
    "\n",
    "print('Average precision-recall score: {0:0.2f}'.format(\n",
    "      average_precision1))"
   ]
  },
  {
   "cell_type": "code",
   "execution_count": 96,
   "metadata": {},
   "outputs": [
    {
     "name": "stdout",
     "output_type": "stream",
     "text": [
      "f1 score most frequent: 0.70\n"
     ]
    }
   ],
   "source": [
    "print(\"f1 score most frequent: {:.2f}\".format(\n",
    "    f1_score(y1_dev, y1_score)))"
   ]
  },
  {
   "cell_type": "markdown",
   "metadata": {},
   "source": [
    "### Note:\n",
    "With this logistic regression model the interaction terms don't seem to be helping much, whereas they had an impact in the survival analysis\n",
    "\n",
    "## Model 1: F1 Score = 0.70"
   ]
  },
  {
   "cell_type": "markdown",
   "metadata": {},
   "source": [
    "# Model 2 - Logistic Regression with balanced classes\n",
    "\n",
    "### What's the difference between stay and leave in this data"
   ]
  },
  {
   "cell_type": "code",
   "execution_count": 100,
   "metadata": {},
   "outputs": [
    {
     "data": {
      "text/plain": [
       "1    6589\n",
       "0    5514\n",
       "Name: quit, dtype: int64"
      ]
     },
     "execution_count": 100,
     "metadata": {},
     "output_type": "execute_result"
    }
   ],
   "source": [
    "y_train.value_counts()"
   ]
  },
  {
   "cell_type": "code",
   "execution_count": 101,
   "metadata": {},
   "outputs": [
    {
     "data": {
      "text/plain": [
       "0.45558952325869617"
      ]
     },
     "execution_count": 101,
     "metadata": {},
     "output_type": "execute_result"
    }
   ],
   "source": [
    "5514/(5514 + 6589)"
   ]
  },
  {
   "cell_type": "markdown",
   "metadata": {},
   "source": [
    "45% of the data is churn so maybe it doesn't need to be balanced\n",
    "\n",
    "### What about the dev set and test set?"
   ]
  },
  {
   "cell_type": "code",
   "execution_count": 102,
   "metadata": {},
   "outputs": [
    {
     "data": {
      "text/plain": [
       "1    2868\n",
       "0    2319\n",
       "Name: quit, dtype: int64"
      ]
     },
     "execution_count": 102,
     "metadata": {},
     "output_type": "execute_result"
    }
   ],
   "source": [
    "y_dev.value_counts()"
   ]
  },
  {
   "cell_type": "code",
   "execution_count": 103,
   "metadata": {},
   "outputs": [
    {
     "data": {
      "text/plain": [
       "0.44707923655292076"
      ]
     },
     "execution_count": 103,
     "metadata": {},
     "output_type": "execute_result"
    }
   ],
   "source": [
    "2319/(2319+2868)"
   ]
  },
  {
   "cell_type": "markdown",
   "metadata": {},
   "source": [
    "45% of the dev set is churn"
   ]
  },
  {
   "cell_type": "code",
   "execution_count": 104,
   "metadata": {},
   "outputs": [
    {
     "data": {
      "text/plain": [
       "1    4051\n",
       "0    3359\n",
       "Name: quit, dtype: int64"
      ]
     },
     "execution_count": 104,
     "metadata": {},
     "output_type": "execute_result"
    }
   ],
   "source": [
    "y_test.value_counts()"
   ]
  },
  {
   "cell_type": "code",
   "execution_count": 105,
   "metadata": {},
   "outputs": [
    {
     "data": {
      "text/plain": [
       "0.453306342780027"
      ]
     },
     "execution_count": 105,
     "metadata": {},
     "output_type": "execute_result"
    }
   ],
   "source": [
    "3359/(3359+4051)"
   ]
  },
  {
   "cell_type": "markdown",
   "metadata": {},
   "source": [
    "And 45% of the test set is churn"
   ]
  },
  {
   "cell_type": "markdown",
   "metadata": {},
   "source": [
    "### Same distriutions across training, dev, and test set this is good\n",
    "\n",
    "## Doesn't seem imbalanced enough to make a difference"
   ]
  },
  {
   "cell_type": "markdown",
   "metadata": {},
   "source": [
    "# Model 3 - Decsion Tree and Random Forest"
   ]
  },
  {
   "cell_type": "markdown",
   "metadata": {},
   "source": [
    "### Defining and fitting decision tree"
   ]
  },
  {
   "cell_type": "code",
   "execution_count": 106,
   "metadata": {},
   "outputs": [
    {
     "data": {
      "text/plain": [
       "DecisionTreeClassifier(class_weight=None, criterion='gini', max_depth=None,\n",
       "            max_features=None, max_leaf_nodes=None,\n",
       "            min_impurity_split=1e-07, min_samples_leaf=1,\n",
       "            min_samples_split=2, min_weight_fraction_leaf=0.0,\n",
       "            presort=False, random_state=112, splitter='best')"
      ]
     },
     "execution_count": 106,
     "metadata": {},
     "output_type": "execute_result"
    }
   ],
   "source": [
    "# Importing the decision tree module\n",
    "from sklearn.tree import DecisionTreeClassifier\n",
    "\n",
    "# Defining the decision tree model\n",
    "tree = DecisionTreeClassifier(random_state=112)\n",
    "\n",
    "# Fitting the decision tree to the training data\n",
    "tree.fit(X_train, y_train)"
   ]
  },
  {
   "cell_type": "markdown",
   "metadata": {},
   "source": [
    "### Test and dev set accrucary score"
   ]
  },
  {
   "cell_type": "code",
   "execution_count": 107,
   "metadata": {},
   "outputs": [
    {
     "name": "stdout",
     "output_type": "stream",
     "text": [
      "Accuracy on training set: 1.000\n",
      "Accuracy on test set: 0.866\n"
     ]
    }
   ],
   "source": [
    "# Printing the training and test set score:\n",
    "print(\"Accuracy on training set: {:.3f}\".format(tree.score(X_train, y_train)))\n",
    "print(\"Accuracy on test set: {:.3f}\".format(tree.score(X_dev, y_dev)))"
   ]
  },
  {
   "cell_type": "markdown",
   "metadata": {},
   "source": [
    "### Defining a function to plot the feature importance"
   ]
  },
  {
   "cell_type": "code",
   "execution_count": 108,
   "metadata": {},
   "outputs": [],
   "source": [
    "def plot_feature_importances(model):\n",
    "    n_features = X.shape[1]\n",
    "    plt.barh(range(n_features), model.feature_importances_, align='center')\n",
    "    plt.yticks(np.arange(n_features), X.columns)\n",
    "    plt.xlabel(\"Feature importance\")\n",
    "    plt.ylabel(\"Feature\")\n",
    "    #plt.ylim(420, n_features)"
   ]
  },
  {
   "cell_type": "markdown",
   "metadata": {},
   "source": [
    "### Plotting feature importance"
   ]
  },
  {
   "cell_type": "code",
   "execution_count": 109,
   "metadata": {},
   "outputs": [
    {
     "data": {
      "image/png": "[encoded data removed]",
      "text/plain": [
       "<matplotlib.figure.Figure at 0x11b3647b8>"
      ]
     },
     "metadata": {},
     "output_type": "display_data"
    }
   ],
   "source": [
    "plt.figure(figsize=(7,7))    \n",
    "plot_feature_importances(tree)"
   ]
  },
  {
   "cell_type": "markdown",
   "metadata": {},
   "source": [
    "### What is the impact of Max Depth?"
   ]
  },
  {
   "cell_type": "code",
   "execution_count": 110,
   "metadata": {},
   "outputs": [
    {
     "name": "stdout",
     "output_type": "stream",
     "text": [
      "Accuracy on training set: 1.000\n",
      "Accuracy on test set: 0.866\n"
     ]
    }
   ],
   "source": [
    "tree1 = DecisionTreeClassifier(max_depth = 3, random_state=112)\n",
    "tree1.fit(X_train, y_train)\n",
    "\n",
    "print(\"Accuracy on training set: {:.3f}\".format(tree.score(X_train, y_train)))\n",
    "print(\"Accuracy on test set: {:.3f}\".format(tree.score(X_dev, y_dev)))"
   ]
  },
  {
   "cell_type": "markdown",
   "metadata": {},
   "source": [
    "### Plotting feature importance"
   ]
  },
  {
   "cell_type": "code",
   "execution_count": 111,
   "metadata": {},
   "outputs": [
    {
     "data": {
      "image/png": "[encoded data removed]",
      "text/plain": [
       "<matplotlib.figure.Figure at 0x11b4e6ba8>"
      ]
     },
     "metadata": {},
     "output_type": "display_data"
    }
   ],
   "source": [
    "plt.figure(figsize=(7,7))    \n",
    "plot_feature_importances(tree1)"
   ]
  },
  {
   "cell_type": "code",
   "execution_count": 112,
   "metadata": {},
   "outputs": [
    {
     "name": "stdout",
     "output_type": "stream",
     "text": [
      "Accuracy on training set: 1.000\n",
      "Accuracy on test set: 0.866\n"
     ]
    }
   ],
   "source": [
    "tree2 = DecisionTreeClassifier(max_depth = 9, random_state=112)\n",
    "tree2.fit(X_train, y_train)\n",
    "\n",
    "print(\"Accuracy on training set: {:.3f}\".format(tree.score(X_train, y_train)))\n",
    "print(\"Accuracy on test set: {:.3f}\".format(tree.score(X_dev, y_dev)))"
   ]
  },
  {
   "cell_type": "code",
   "execution_count": 113,
   "metadata": {},
   "outputs": [
    {
     "data": {
      "image/png": "[encoded data removed]",
      "text/plain": [
       "<matplotlib.figure.Figure at 0x11a338898>"
      ]
     },
     "metadata": {},
     "output_type": "display_data"
    }
   ],
   "source": [
    "plt.figure(figsize=(7,7))    \n",
    "plot_feature_importances(tree2)"
   ]
  },
  {
   "cell_type": "markdown",
   "metadata": {},
   "source": [
    "## Random Forest"
   ]
  },
  {
   "cell_type": "code",
   "execution_count": 114,
   "metadata": {},
   "outputs": [
    {
     "data": {
      "text/plain": [
       "RandomForestClassifier(bootstrap=True, class_weight=None, criterion='gini',\n",
       "            max_depth=None, max_features='auto', max_leaf_nodes=None,\n",
       "            min_impurity_split=1e-07, min_samples_leaf=1,\n",
       "            min_samples_split=2, min_weight_fraction_leaf=0.0,\n",
       "            n_estimators=50, n_jobs=1, oob_score=False, random_state=26,\n",
       "            verbose=0, warm_start=False)"
      ]
     },
     "execution_count": 114,
     "metadata": {},
     "output_type": "execute_result"
    }
   ],
   "source": [
    "from sklearn.ensemble import RandomForestClassifier\n",
    "\n",
    "forest = RandomForestClassifier(n_estimators = 50, random_state=26)\n",
    "forest.fit(X_train, y_train)"
   ]
  },
  {
   "cell_type": "markdown",
   "metadata": {},
   "source": [
    "### Printing accuracy score on test and dev set"
   ]
  },
  {
   "cell_type": "code",
   "execution_count": 115,
   "metadata": {},
   "outputs": [
    {
     "name": "stdout",
     "output_type": "stream",
     "text": [
      "Accuracy on training set: 1.000\n",
      "Accuracy on test set: 0.716\n"
     ]
    }
   ],
   "source": [
    "print(\"Accuracy on training set: {:.3f}\".format(forest.score(X_train, y_train)))\n",
    "print(\"Accuracy on test set: {:.3f}\".format(forest.score(X_dev, y_dev)))"
   ]
  },
  {
   "cell_type": "markdown",
   "metadata": {},
   "source": [
    "### Plotting feature importance"
   ]
  },
  {
   "cell_type": "code",
   "execution_count": 116,
   "metadata": {},
   "outputs": [
    {
     "data": {
      "image/png": "[encoded data removed]",
      "text/plain": [
       "<matplotlib.figure.Figure at 0x11b3d24e0>"
      ]
     },
     "metadata": {},
     "output_type": "display_data"
    }
   ],
   "source": [
    "plt.figure(figsize=(7,7))\n",
    "plot_feature_importances(forest)"
   ]
  },
  {
   "cell_type": "markdown",
   "metadata": {},
   "source": [
    "### Defining y_score based on model predicions from X_dev data"
   ]
  },
  {
   "cell_type": "code",
   "execution_count": 117,
   "metadata": {},
   "outputs": [],
   "source": [
    "y_score = forest.predict(X_dev)"
   ]
  },
  {
   "cell_type": "code",
   "execution_count": 118,
   "metadata": {},
   "outputs": [],
   "source": [
    "# Creating the confusion matrix\n",
    "confusion_matrix(y_dev, y_score)\n",
    "\n",
    "con_mat = confusion_matrix(y_dev, y_score)"
   ]
  },
  {
   "cell_type": "code",
   "execution_count": 119,
   "metadata": {},
   "outputs": [
    {
     "name": "stdout",
     "output_type": "stream",
     "text": [
      "Confusion matrix, without normalization\n",
      "[[1432  887]\n",
      " [ 585 2283]]\n"
     ]
    },
    {
     "data": {
      "image/png": "[encoded data removed]",
      "text/plain": [
       "<matplotlib.figure.Figure at 0x11b8a6f60>"
      ]
     },
     "metadata": {},
     "output_type": "display_data"
    }
   ],
   "source": [
    "# Plot non-normalized confusion matrix\n",
    "class_names = ['Leave','Stay']\n",
    "plt.figure()\n",
    "plot_confusion_matrix(con_mat,classes=class_names,\n",
    "                     title='Confusion matrix, without normalization')"
   ]
  },
  {
   "cell_type": "code",
   "execution_count": 120,
   "metadata": {},
   "outputs": [
    {
     "name": "stdout",
     "output_type": "stream",
     "text": [
      "Normalized confusion matrix\n",
      "[[ 0.61750755  0.38249245]\n",
      " [ 0.2039749   0.7960251 ]]\n"
     ]
    },
    {
     "data": {
      "image/png": "[encoded data removed]",
      "text/plain": [
       "<matplotlib.figure.Figure at 0x11b8a6d30>"
      ]
     },
     "metadata": {},
     "output_type": "display_data"
    }
   ],
   "source": [
    "plt.figure()\n",
    "plot_confusion_matrix(con_mat,classes=class_names,\n",
    "                      normalize = True,\n",
    "                     title='Confusion matrix, with normalization')"
   ]
  },
  {
   "cell_type": "markdown",
   "metadata": {},
   "source": [
    "### Precision and Recall Scores"
   ]
  },
  {
   "cell_type": "code",
   "execution_count": 121,
   "metadata": {},
   "outputs": [
    {
     "name": "stdout",
     "output_type": "stream",
     "text": [
      "Precision: 0.720189274448\n",
      "Recall: 0.796025104603\n"
     ]
    }
   ],
   "source": [
    "from sklearn.metrics import precision_score\n",
    "from sklearn.metrics import recall_score\n",
    "\n",
    "print(\"Precision:\", precision_score(y_dev, y_score))\n",
    "print(\"Recall:\", recall_score(y_dev, y_score))"
   ]
  },
  {
   "cell_type": "markdown",
   "metadata": {},
   "source": [
    "### Average Precision and Recall"
   ]
  },
  {
   "cell_type": "code",
   "execution_count": 122,
   "metadata": {},
   "outputs": [
    {
     "name": "stdout",
     "output_type": "stream",
     "text": [
      "Average precision-recall score: 0.77\n"
     ]
    }
   ],
   "source": [
    "print('Average precision-recall score: {0:0.2f}'.format(\n",
    "      average_precision))"
   ]
  },
  {
   "cell_type": "markdown",
   "metadata": {},
   "source": [
    "### F1 Score"
   ]
  },
  {
   "cell_type": "code",
   "execution_count": 123,
   "metadata": {},
   "outputs": [
    {
     "name": "stdout",
     "output_type": "stream",
     "text": [
      "f1 score most frequent: 0.76\n"
     ]
    }
   ],
   "source": [
    "from sklearn.metrics import f1_score\n",
    "print(\"f1 score most frequent: {:.2f}\".format(\n",
    "    f1_score(y_dev, y_score)))"
   ]
  },
  {
   "cell_type": "markdown",
   "metadata": {},
   "source": [
    "## With random forest model I have an F1 score of 0.76 which is the best so far"
   ]
  },
  {
   "cell_type": "markdown",
   "metadata": {},
   "source": [
    "# = = = = = = = = = = = = = = = = = = = "
   ]
  },
  {
   "cell_type": "markdown",
   "metadata": {},
   "source": [
    "# K-Nearest Neighbors"
   ]
  },
  {
   "cell_type": "code",
   "execution_count": 124,
   "metadata": {},
   "outputs": [],
   "source": [
    "from sklearn.neighbors import KNeighborsClassifier\n",
    "\n",
    "# Specify the model\n",
    "knn = KNeighborsClassifier(n_neighbors=3)"
   ]
  },
  {
   "cell_type": "code",
   "execution_count": 125,
   "metadata": {},
   "outputs": [
    {
     "data": {
      "text/plain": [
       "KNeighborsClassifier(algorithm='auto', leaf_size=30, metric='minkowski',\n",
       "           metric_params=None, n_jobs=1, n_neighbors=3, p=2,\n",
       "           weights='uniform')"
      ]
     },
     "execution_count": 125,
     "metadata": {},
     "output_type": "execute_result"
    }
   ],
   "source": [
    "# Perform the model fit\n",
    "knn.fit(X_train, y_train)"
   ]
  },
  {
   "cell_type": "markdown",
   "metadata": {},
   "source": [
    "### Accuracy score on test and dev set"
   ]
  },
  {
   "cell_type": "code",
   "execution_count": 126,
   "metadata": {},
   "outputs": [
    {
     "name": "stdout",
     "output_type": "stream",
     "text": [
      "Test set accuracy: 0.82\n",
      "Test set accuracy: 0.66\n"
     ]
    }
   ],
   "source": [
    "print(\"Test set accuracy: {:.2f}\".format(knn.score(X_train, y_train)))\n",
    "print(\"Test set accuracy: {:.2f}\".format(knn.score(X_dev, y_dev)))"
   ]
  },
  {
   "cell_type": "markdown",
   "metadata": {},
   "source": [
    "### Getting y-score via KNN preditions"
   ]
  },
  {
   "cell_type": "code",
   "execution_count": 127,
   "metadata": {},
   "outputs": [],
   "source": [
    "y_score = knn.predict(X_dev)"
   ]
  },
  {
   "cell_type": "code",
   "execution_count": 128,
   "metadata": {},
   "outputs": [],
   "source": [
    "knn_con_mat = confusion_matrix(y_dev, y_score)"
   ]
  },
  {
   "cell_type": "code",
   "execution_count": 129,
   "metadata": {},
   "outputs": [
    {
     "name": "stdout",
     "output_type": "stream",
     "text": [
      "Confusion matrix, without normalization\n",
      "[[1263 1056]\n",
      " [ 706 2162]]\n"
     ]
    },
    {
     "data": {
      "image/png": "[encoded data removed]",
      "text/plain": [
       "<matplotlib.figure.Figure at 0x11b8dcc50>"
      ]
     },
     "metadata": {},
     "output_type": "display_data"
    }
   ],
   "source": [
    "# Plot non-normalized confusion matrix\n",
    "class_names = ['Leave','Stay']\n",
    "plt.figure()\n",
    "plot_confusion_matrix(knn_con_mat,classes=class_names,\n",
    "                     title='Confusion matrix, without normalization')"
   ]
  },
  {
   "cell_type": "code",
   "execution_count": 130,
   "metadata": {},
   "outputs": [
    {
     "name": "stdout",
     "output_type": "stream",
     "text": [
      "Normalized confusion matrix\n",
      "[[ 0.54463131  0.45536869]\n",
      " [ 0.24616457  0.75383543]]\n"
     ]
    },
    {
     "data": {
      "image/png": "[encoded data removed]",
      "text/plain": [
       "<matplotlib.figure.Figure at 0x11d31ea90>"
      ]
     },
     "metadata": {},
     "output_type": "display_data"
    }
   ],
   "source": [
    "plt.figure()\n",
    "plot_confusion_matrix(knn_con_mat,classes=class_names,\n",
    "                      normalize = True,\n",
    "                     title='Confusion matrix, normalization')"
   ]
  },
  {
   "cell_type": "markdown",
   "metadata": {},
   "source": [
    "### Precision and Recall"
   ]
  },
  {
   "cell_type": "code",
   "execution_count": 131,
   "metadata": {},
   "outputs": [
    {
     "name": "stdout",
     "output_type": "stream",
     "text": [
      "Precision: 0.671845866998\n",
      "Recall: 0.753835425384\n"
     ]
    }
   ],
   "source": [
    "print(\"Precision:\", precision_score(y_dev, y_score))\n",
    "print(\"Recall:\", recall_score(y_dev, y_score))"
   ]
  },
  {
   "cell_type": "markdown",
   "metadata": {},
   "source": [
    "### Average Precision and Recall"
   ]
  },
  {
   "cell_type": "code",
   "execution_count": 132,
   "metadata": {},
   "outputs": [
    {
     "name": "stdout",
     "output_type": "stream",
     "text": [
      "Average precision-recall score: 0.77\n"
     ]
    }
   ],
   "source": [
    "print('Average precision-recall score: {0:0.2f}'.format(\n",
    "      average_precision))"
   ]
  },
  {
   "cell_type": "markdown",
   "metadata": {},
   "source": [
    "### F1 Score"
   ]
  },
  {
   "cell_type": "code",
   "execution_count": 133,
   "metadata": {},
   "outputs": [
    {
     "name": "stdout",
     "output_type": "stream",
     "text": [
      "f1 score most frequent: 0.71\n"
     ]
    }
   ],
   "source": [
    "print(\"f1 score most frequent: {:.2f}\".format(\n",
    "    f1_score(y_dev, y_score)))"
   ]
  },
  {
   "cell_type": "code",
   "execution_count": 134,
   "metadata": {},
   "outputs": [
    {
     "data": {
      "text/plain": [
       "0.81979674460877472"
      ]
     },
     "execution_count": 134,
     "metadata": {},
     "output_type": "execute_result"
    }
   ],
   "source": [
    "knn.score(X_train,y_train)"
   ]
  },
  {
   "cell_type": "markdown",
   "metadata": {},
   "source": [
    "### Figure out the best k-parameter"
   ]
  },
  {
   "cell_type": "code",
   "execution_count": 135,
   "metadata": {},
   "outputs": [],
   "source": [
    "from sklearn.model_selection import GridSearchCV"
   ]
  },
  {
   "cell_type": "code",
   "execution_count": 136,
   "metadata": {},
   "outputs": [],
   "source": [
    "k = np.arange(20)+1\n",
    "parameters = {'n_neighbors': k}\n",
    "clf = GridSearchCV(knn, parameters, cv=5)"
   ]
  },
  {
   "cell_type": "code",
   "execution_count": 137,
   "metadata": {},
   "outputs": [
    {
     "data": {
      "text/plain": [
       "GridSearchCV(cv=5, error_score='raise',\n",
       "       estimator=KNeighborsClassifier(algorithm='auto', leaf_size=30, metric='minkowski',\n",
       "           metric_params=None, n_jobs=1, n_neighbors=3, p=2,\n",
       "           weights='uniform'),\n",
       "       fit_params={}, iid=True, n_jobs=1,\n",
       "       param_grid={'n_neighbors': array([ 1,  2,  3,  4,  5,  6,  7,  8,  9, 10, 11, 12, 13, 14, 15, 16, 17,\n",
       "       18, 19, 20])},\n",
       "       pre_dispatch='2*n_jobs', refit=True, return_train_score=True,\n",
       "       scoring=None, verbose=0)"
      ]
     },
     "execution_count": 137,
     "metadata": {},
     "output_type": "execute_result"
    }
   ],
   "source": [
    "clf.fit(X_train,y_train)"
   ]
  },
  {
   "cell_type": "code",
   "execution_count": 143,
   "metadata": {},
   "outputs": [],
   "source": [
    "#%time clf.fit(X_train, y_train)"
   ]
  },
  {
   "cell_type": "code",
   "execution_count": 144,
   "metadata": {},
   "outputs": [
    {
     "data": {
      "text/plain": [
       "{'n_neighbors': 5}"
      ]
     },
     "execution_count": 144,
     "metadata": {},
     "output_type": "execute_result"
    }
   ],
   "source": [
    "clf.best_params_"
   ]
  },
  {
   "cell_type": "code",
   "execution_count": 145,
   "metadata": {},
   "outputs": [
    {
     "data": {
      "text/plain": [
       "0.77187474179955384"
      ]
     },
     "execution_count": 145,
     "metadata": {},
     "output_type": "execute_result"
    }
   ],
   "source": [
    "clf.score(X_train,y_train)"
   ]
  },
  {
   "cell_type": "code",
   "execution_count": 146,
   "metadata": {},
   "outputs": [
    {
     "data": {
      "text/plain": [
       "array([ 0.64023131,  0.64436183,  0.65840562,  0.6559273 ,  0.63993386])"
      ]
     },
     "execution_count": 146,
     "metadata": {},
     "output_type": "execute_result"
    }
   ],
   "source": [
    "knn2 = KNeighborsClassifier(n_neighbors = 5, algorithm = 'brute')\n",
    "cross_val_score(knn2, X_train, y_train, cv=5)"
   ]
  },
  {
   "cell_type": "markdown",
   "metadata": {},
   "source": [
    "# = = = = = = = = = = = = = = = = = \n",
    "# Niave Bayes Classifier"
   ]
  },
  {
   "cell_type": "markdown",
   "metadata": {},
   "source": [
    "### Importing the Naive Bayes Classifier"
   ]
  },
  {
   "cell_type": "code",
   "execution_count": 148,
   "metadata": {},
   "outputs": [],
   "source": [
    "from sklearn.naive_bayes import GaussianNB"
   ]
  },
  {
   "cell_type": "markdown",
   "metadata": {},
   "source": [
    "### Create a guassian classifier"
   ]
  },
  {
   "cell_type": "code",
   "execution_count": 153,
   "metadata": {},
   "outputs": [
    {
     "data": {
      "text/plain": [
       "GaussianNB(priors=None)"
      ]
     },
     "execution_count": 153,
     "metadata": {},
     "output_type": "execute_result"
    }
   ],
   "source": [
    "naive_bayes = GaussianNB()\n",
    "\n",
    "# Training the model\n",
    "naive_bayes.fit(X_train, y_train)"
   ]
  },
  {
   "cell_type": "code",
   "execution_count": 156,
   "metadata": {},
   "outputs": [],
   "source": [
    "y_score = naive_bayes.predict(X_dev)"
   ]
  },
  {
   "cell_type": "markdown",
   "metadata": {},
   "source": [
    "### Acuracy on the train and dev set"
   ]
  },
  {
   "cell_type": "code",
   "execution_count": 155,
   "metadata": {},
   "outputs": [
    {
     "name": "stdout",
     "output_type": "stream",
     "text": [
      "Test set accuracy: 0.56\n",
      "Test set accuracy: 0.54\n"
     ]
    }
   ],
   "source": [
    "print(\"Test set accuracy: {:.2f}\".format(naive_bayes.score(X_train, y_train)))\n",
    "print(\"Test set accuracy: {:.2f}\".format(naive_bayes.score(X_dev, y_dev)))"
   ]
  },
  {
   "cell_type": "code",
   "execution_count": 157,
   "metadata": {},
   "outputs": [],
   "source": [
    "con_mat = confusion_matrix(y_dev, y_score)"
   ]
  },
  {
   "cell_type": "code",
   "execution_count": 165,
   "metadata": {},
   "outputs": [
    {
     "name": "stdout",
     "output_type": "stream",
     "text": [
      "Confusion matrix, without normalization\n",
      "[[1533  786]\n",
      " [1605 1263]]\n"
     ]
    },
    {
     "data": {
      "image/png": "[encoded data removed]",
      "text/plain": [
       "<matplotlib.figure.Figure at 0x11a0a07f0>"
      ]
     },
     "metadata": {},
     "output_type": "display_data"
    }
   ],
   "source": [
    "# Plot non-normalized confusion matrix\n",
    "class_names = ['Leave','Stay']\n",
    "plt.figure()\n",
    "plot_confusion_matrix(con_mat,classes=class_names,\n",
    "                     title='Confusion matrix, without normalization')"
   ]
  },
  {
   "cell_type": "code",
   "execution_count": 164,
   "metadata": {},
   "outputs": [
    {
     "name": "stdout",
     "output_type": "stream",
     "text": [
      "Normalized confusion matrix\n",
      "[[ 0.6610608   0.3389392 ]\n",
      " [ 0.55962343  0.44037657]]\n"
     ]
    },
    {
     "data": {
      "image/png": "[encoded data removed]",
      "text/plain": [
       "<matplotlib.figure.Figure at 0x11a083eb8>"
      ]
     },
     "metadata": {},
     "output_type": "display_data"
    }
   ],
   "source": [
    "plt.figure()\n",
    "plot_confusion_matrix(con_mat,classes=class_names,\n",
    "                      normalize = True,\n",
    "                     title='Confusion matrix, normalized')"
   ]
  },
  {
   "cell_type": "markdown",
   "metadata": {},
   "source": [
    "### Precision and recall"
   ]
  },
  {
   "cell_type": "code",
   "execution_count": 161,
   "metadata": {},
   "outputs": [
    {
     "name": "stdout",
     "output_type": "stream",
     "text": [
      "Precision: 0.616398243045\n",
      "Recall: 0.440376569038\n"
     ]
    }
   ],
   "source": [
    "print(\"Precision:\", precision_score(y_dev, y_score))\n",
    "print(\"Recall:\", recall_score(y_dev, y_score))"
   ]
  },
  {
   "cell_type": "markdown",
   "metadata": {},
   "source": [
    "### F1 Score"
   ]
  },
  {
   "cell_type": "code",
   "execution_count": 167,
   "metadata": {},
   "outputs": [
    {
     "name": "stdout",
     "output_type": "stream",
     "text": [
      "f1 score most frequent: 0.51\n"
     ]
    }
   ],
   "source": [
    "print(\"f1 score most frequent: {:.2f}\".format(\n",
    "    f1_score(y_dev, y_score)))"
   ]
  },
  {
   "cell_type": "markdown",
   "metadata": {},
   "source": [
    "Naive Bayes gives me the worst F1 score yet... possibly because some of the varibales aren't normally distirbuted"
   ]
  },
  {
   "cell_type": "markdown",
   "metadata": {},
   "source": [
    "# = = = = = = = = = = = = = = = = = = = = = = = = = = = = = = = = = = = = \n",
    "# Final Conclusion and Take Aways:\n",
    "\n",
    "### 1. Salary and Senority have an impact on when employees quit\n",
    "This was confirmed both through visual inspection of survival plots but also from the Cox proportional hazzard model to analyze survival\n",
    "\n",
    "### 2. Logistic Regression and Random Forest do a reasonable job predicting who will quit\n",
    "\n",
    "Logistic Regression F1 Score: .71, Random Forest F1 score: .76\n",
    "\n",
    "Feature importance in Random Forest confirms the importance of Salary, Senority, and Time on when employees quit\n",
    "\n",
    "### Suggestions for companies:\n",
    "Because there is a large drop off in emplyees after year 1 until year 3 companies should put program into place to make sure they are retaining the most talented employees. Moreover, understanding the recruiting practices at other companies and what types of opportunties employyes are leaving for may help companines to put programs in place to retain this young segment of the workforce."
   ]
  },
  {
   "cell_type": "code",
   "execution_count": null,
   "metadata": {},
   "outputs": [],
   "source": []
  }
 ],
 "metadata": {
  "anaconda-cloud": {},
  "kernelspec": {
   "display_name": "Python [conda root]",
   "language": "python",
   "name": "conda-root-py"
  },
  "language_info": {
   "codemirror_mode": {
    "name": "ipython",
    "version": 3
   },
   "file_extension": ".py",
   "mimetype": "text/x-python",
   "name": "python",
   "nbconvert_exporter": "python",
   "pygments_lexer": "ipython3",
   "version": "3.5.2"
  }
 },
 "nbformat": 4,
 "nbformat_minor": 2
}
